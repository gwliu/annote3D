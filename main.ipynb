{
 "cells": [
  {
   "cell_type": "code",
   "execution_count": 1,
   "metadata": {
    "collapsed": true
   },
   "outputs": [],
   "source": [
    "import somanote\n",
    "import numpy as np"
   ]
  },
  {
   "cell_type": "code",
   "execution_count": 2,
   "metadata": {
    "collapsed": false
   },
   "outputs": [
    {
     "name": "stdout",
     "output_type": "stream",
     "text": [
      "Init 1/3 with method: k-means++\n",
      "Inertia for init 1/3: 136924267.013717\n",
      "Init 2/3 with method: k-means++\n",
      "Inertia for init 2/3: 126786621.578648\n",
      "Init 3/3 with method: k-means++\n",
      "Inertia for init 3/3: 126086167.723189\n",
      "Minibatch iteration 1/4300: mean batch inertia: 42.007151, ewa inertia: 42.007151 \n",
      "Minibatch iteration 2/4300: mean batch inertia: 41.716501, ewa inertia: 41.993457 \n",
      "Minibatch iteration 3/4300: mean batch inertia: 41.953298, ewa inertia: 41.991564 \n",
      "Minibatch iteration 4/4300: mean batch inertia: 41.560214, ewa inertia: 41.971241 \n",
      "Minibatch iteration 5/4300: mean batch inertia: 41.521033, ewa inertia: 41.950028 \n",
      "Minibatch iteration 6/4300: mean batch inertia: 41.779617, ewa inertia: 41.941999 \n",
      "Minibatch iteration 7/4300: mean batch inertia: 41.946952, ewa inertia: 41.942232 \n",
      "Minibatch iteration 8/4300: mean batch inertia: 42.043935, ewa inertia: 41.947024 \n",
      "Minibatch iteration 9/4300: mean batch inertia: 41.818260, ewa inertia: 41.940957 \n",
      "Minibatch iteration 10/4300: mean batch inertia: 42.028595, ewa inertia: 41.945086 \n",
      "Minibatch iteration 11/4300: mean batch inertia: 41.873443, ewa inertia: 41.941711 \n",
      "Minibatch iteration 12/4300: mean batch inertia: 41.862158, ewa inertia: 41.937963 \n",
      "Minibatch iteration 13/4300: mean batch inertia: 41.967227, ewa inertia: 41.939341 \n",
      "Minibatch iteration 14/4300: mean batch inertia: 41.939856, ewa inertia: 41.939366 \n",
      "Minibatch iteration 15/4300: mean batch inertia: 41.491530, ewa inertia: 41.918265 \n",
      "Minibatch iteration 16/4300: mean batch inertia: 42.054453, ewa inertia: 41.924682 \n",
      "Minibatch iteration 17/4300: mean batch inertia: 41.320614, ewa inertia: 41.896220 \n",
      "Minibatch iteration 18/4300: mean batch inertia: 41.954936, ewa inertia: 41.898986 \n",
      "Minibatch iteration 19/4300: mean batch inertia: 42.092408, ewa inertia: 41.908100 \n",
      "Minibatch iteration 20/4300: mean batch inertia: 41.998633, ewa inertia: 41.912366 \n",
      "Minibatch iteration 21/4300: mean batch inertia: 42.036145, ewa inertia: 41.918198 \n",
      "Minibatch iteration 22/4300: mean batch inertia: 42.045051, ewa inertia: 41.924175 \n",
      "Minibatch iteration 23/4300: mean batch inertia: 41.875327, ewa inertia: 41.921873 \n",
      "Minibatch iteration 24/4300: mean batch inertia: 41.761233, ewa inertia: 41.914304 \n",
      "Minibatch iteration 25/4300: mean batch inertia: 41.717869, ewa inertia: 41.905049 \n",
      "Minibatch iteration 26/4300: mean batch inertia: 41.891943, ewa inertia: 41.904431 \n",
      "Minibatch iteration 27/4300: mean batch inertia: 42.015106, ewa inertia: 41.909646 \n",
      "Converged (lack of improvement in inertia) at iteration 27/4300\n",
      "Computing label assignment and total inertia\n"
     ]
    },
    {
     "name": "stderr",
     "output_type": "stream",
     "text": [
      "/usr/local/lib/python3.5/dist-packages/skimage/morphology/misc.py:122: UserWarning: Only one label was provided to `remove_small_objects`. Did you mean to use a boolean array?\n",
      "  warn(\"Only one label was provided to `remove_small_objects`. \"\n",
      "/usr/local/lib/python3.5/dist-packages/skimage/io/_io.py:132: UserWarning: /home/yingtao/Desktop/annote3D/image.tif is a low contrast image\n",
      "  warn('%s is a low contrast image' % fname)\n",
      "/usr/local/lib/python3.5/dist-packages/skimage/io/_io.py:132: UserWarning: /home/yingtao/Desktop/annote3D/original_images/1106.tif is a low contrast image\n",
      "  warn('%s is a low contrast image' % fname)\n",
      "/usr/local/lib/python3.5/dist-packages/skimage/io/_io.py:132: UserWarning: /home/yingtao/Desktop/annote3D/origin.tif is a low contrast image\n",
      "  warn('%s is a low contrast image' % fname)\n"
     ]
    },
    {
     "name": "stdout",
     "output_type": "stream",
     "text": [
      "What's the index of circled neuron? 84\n",
      "neuron + 84\n",
      "What's the index of circled neuron? 163\n",
      "neuron + 163\n",
      "What's the index of circled neuron? stop\n",
      "next image\n"
     ]
    }
   ],
   "source": [
    "samples,labels = somanote.batch_label()"
   ]
  },
  {
   "cell_type": "code",
   "execution_count": 3,
   "metadata": {
    "collapsed": false
   },
   "outputs": [
    {
     "name": "stdout",
     "output_type": "stream",
     "text": [
      "next\n",
      "Init 1/3 with method: k-means++\n",
      "Inertia for init 1/3: 19287737.743669\n",
      "Init 2/3 with method: k-means++\n",
      "Inertia for init 2/3: 22890610.340715\n",
      "Init 3/3 with method: k-means++\n",
      "Inertia for init 3/3: 20369740.024828\n",
      "Minibatch iteration 1/3800: mean batch inertia: 6.318415, ewa inertia: 6.318415 \n",
      "Minibatch iteration 2/3800: mean batch inertia: 6.350458, ewa inertia: 6.320144 \n",
      "Minibatch iteration 3/3800: mean batch inertia: 6.294092, ewa inertia: 6.318739 \n",
      "Minibatch iteration 4/3800: mean batch inertia: 6.405872, ewa inertia: 6.323440 \n",
      "Minibatch iteration 5/3800: mean batch inertia: 6.293871, ewa inertia: 6.321845 \n",
      "Minibatch iteration 6/3800: mean batch inertia: 6.353819, ewa inertia: 6.323570 \n",
      "Minibatch iteration 7/3800: mean batch inertia: 6.356749, ewa inertia: 6.325360 \n",
      "Minibatch iteration 8/3800: mean batch inertia: 6.427962, ewa inertia: 6.330896 \n",
      "Minibatch iteration 9/3800: mean batch inertia: 6.430844, ewa inertia: 6.336289 \n",
      "Minibatch iteration 10/3800: mean batch inertia: 6.425810, ewa inertia: 6.341120 \n",
      "Minibatch iteration 11/3800: mean batch inertia: 6.373340, ewa inertia: 6.342858 \n",
      "Converged (lack of improvement in inertia) at iteration 11/3800\n",
      "Computing label assignment and total inertia\n"
     ]
    },
    {
     "name": "stderr",
     "output_type": "stream",
     "text": [
      "/usr/local/lib/python3.5/dist-packages/skimage/morphology/misc.py:122: UserWarning: Only one label was provided to `remove_small_objects`. Did you mean to use a boolean array?\n",
      "  warn(\"Only one label was provided to `remove_small_objects`. \"\n",
      "/usr/local/lib/python3.5/dist-packages/skimage/io/_io.py:132: UserWarning: /home/yingtao/Desktop/annote3D/image.tif is a low contrast image\n",
      "  warn('%s is a low contrast image' % fname)\n",
      "/usr/local/lib/python3.5/dist-packages/skimage/io/_io.py:132: UserWarning: /home/yingtao/Desktop/annote3D/original_images/1106.tif is a low contrast image\n",
      "  warn('%s is a low contrast image' % fname)\n",
      "/home/yingtao/Desktop/annote3D/annote3D/somanote.py:128: UserWarning: genfromtxt: Empty input file: \"/home/yingtao/Desktop/annote3D/maximafile/Results68.csv\"\n",
      "  temp = np.genfromtxt(files, delimiter=',')\n",
      "/home/yingtao/Desktop/annote3D/annote3D/somanote.py:128: UserWarning: genfromtxt: Empty input file: \"/home/yingtao/Desktop/annote3D/maximafile/Results69.csv\"\n",
      "  temp = np.genfromtxt(files, delimiter=',')\n",
      "/home/yingtao/Desktop/annote3D/annote3D/somanote.py:128: UserWarning: genfromtxt: Empty input file: \"/home/yingtao/Desktop/annote3D/maximafile/Results70.csv\"\n",
      "  temp = np.genfromtxt(files, delimiter=',')\n",
      "/home/yingtao/Desktop/annote3D/annote3D/somanote.py:128: UserWarning: genfromtxt: Empty input file: \"/home/yingtao/Desktop/annote3D/maximafile/Results71.csv\"\n",
      "  temp = np.genfromtxt(files, delimiter=',')\n"
     ]
    },
    {
     "name": "stdout",
     "output_type": "stream",
     "text": [
      "Do you want to stop?(y/n)y\n"
     ]
    }
   ],
   "source": [
    "test_samples = somanote.batch_test()"
   ]
  },
  {
   "cell_type": "code",
   "execution_count": 4,
   "metadata": {
    "collapsed": false
   },
   "outputs": [
    {
     "name": "stderr",
     "output_type": "stream",
     "text": [
      "/usr/local/lib/python3.5/dist-packages/sklearn/model_selection/_split.py:581: Warning: The least populated class in y has only 2 members, which is too few. The minimum number of groups for any class cannot be less than n_splits=3.\n",
      "  % (min_groups, self.n_splits)), Warning)\n"
     ]
    }
   ],
   "source": [
    "from sklearn.ensemble import RandomForestClassifier\n",
    "from sklearn.model_selection import StratifiedKFold\n",
    "skf  = StratifiedKFold(n_splits=3)\n",
    "for a,b in skf.split(samples, labels):\n",
    "    trainindex = a\n",
    "    testindex = b\n",
    "    break\n",
    "clf = RandomForestClassifier(max_depth=5, random_state=0, class_weight = 'balanced')"
   ]
  },
  {
   "cell_type": "code",
   "execution_count": 5,
   "metadata": {
    "collapsed": false
   },
   "outputs": [
    {
     "data": {
      "text/plain": [
       "RandomForestClassifier(bootstrap=True, class_weight='balanced',\n",
       "            criterion='gini', max_depth=5, max_features='auto',\n",
       "            max_leaf_nodes=None, min_impurity_split=1e-07,\n",
       "            min_samples_leaf=1, min_samples_split=2,\n",
       "            min_weight_fraction_leaf=0.0, n_estimators=10, n_jobs=1,\n",
       "            oob_score=False, random_state=0, verbose=0, warm_start=False)"
      ]
     },
     "execution_count": 5,
     "metadata": {},
     "output_type": "execute_result"
    }
   ],
   "source": [
    "clf.fit(samples, labels)"
   ]
  },
  {
   "cell_type": "code",
   "execution_count": null,
   "metadata": {
    "collapsed": true
   },
   "outputs": [],
   "source": [
    "for i in test_samples:\n",
    "    result = clf.predict(i)\n",
    "    np.savetxt('/home/yingtao/Desktop/annote3D/result',result)"
   ]
  },
  {
   "cell_type": "code",
   "execution_count": null,
   "metadata": {
    "collapsed": true
   },
   "outputs": [],
   "source": []
  }
 ],
 "metadata": {
  "kernelspec": {
   "display_name": "Python 3",
   "language": "python",
   "name": "python3"
  },
  "language_info": {
   "codemirror_mode": {
    "name": "ipython",
    "version": 3
   },
   "file_extension": ".py",
   "mimetype": "text/x-python",
   "name": "python",
   "nbconvert_exporter": "python",
   "pygments_lexer": "ipython3",
   "version": "3.5.2"
  }
 },
 "nbformat": 4,
 "nbformat_minor": 1
}
