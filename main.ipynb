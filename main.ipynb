{
 "cells": [
  {
   "cell_type": "code",
   "execution_count": 1,
   "metadata": {
    "collapsed": true
   },
   "outputs": [],
   "source": [
    "import somanote\n",
    "import numpy as np"
   ]
  },
  {
   "cell_type": "code",
   "execution_count": 2,
   "metadata": {
    "collapsed": false
   },
   "outputs": [
    {
     "name": "stdout",
     "output_type": "stream",
     "text": [
      "Init 1/3 with method: k-means++\n",
      "Inertia for init 1/3: 70977.299856\n",
      "Init 2/3 with method: k-means++\n",
      "Inertia for init 2/3: 68995.948734\n",
      "Init 3/3 with method: k-means++\n",
      "Inertia for init 3/3: 79026.599376\n",
      "Minibatch iteration 1/2100: mean batch inertia: 0.023412, ewa inertia: 0.023412 \n",
      "Minibatch iteration 2/2100: mean batch inertia: 0.022888, ewa inertia: 0.023362 \n",
      "Minibatch iteration 3/2100: mean batch inertia: 0.025758, ewa inertia: 0.023593 \n",
      "Minibatch iteration 4/2100: mean batch inertia: 0.023138, ewa inertia: 0.023549 \n",
      "Minibatch iteration 5/2100: mean batch inertia: 0.029207, ewa inertia: 0.024095 \n",
      "Minibatch iteration 6/2100: mean batch inertia: 0.025884, ewa inertia: 0.024267 \n",
      "Minibatch iteration 7/2100: mean batch inertia: 0.024806, ewa inertia: 0.024319 \n",
      "Minibatch iteration 8/2100: mean batch inertia: 0.026268, ewa inertia: 0.024507 \n",
      "Minibatch iteration 9/2100: mean batch inertia: 0.022298, ewa inertia: 0.024294 \n",
      "Minibatch iteration 10/2100: mean batch inertia: 0.026840, ewa inertia: 0.024540 \n",
      "Minibatch iteration 11/2100: mean batch inertia: 0.024950, ewa inertia: 0.024579 \n",
      "Minibatch iteration 12/2100: mean batch inertia: 0.029553, ewa inertia: 0.025059 \n",
      "Converged (lack of improvement in inertia) at iteration 12/2100\n",
      "Computing label assignment and total inertia\n"
     ]
    },
    {
     "name": "stderr",
     "output_type": "stream",
     "text": [
      "/usr/local/lib/python3.5/dist-packages/skimage/io/_io.py:132: UserWarning: /home/yingtao/Desktop/annote3D/image.tif is a low contrast image\n",
      "  warn('%s is a low contrast image' % fname)\n",
      "/usr/local/lib/python3.5/dist-packages/skimage/io/_io.py:132: UserWarning: /home/yingtao/Desktop/annote3D/original_images/1106.tif is a low contrast image\n",
      "  warn('%s is a low contrast image' % fname)\n",
      "/home/yingtao/Desktop/annote3D/annote3D/somanote.py:128: UserWarning: genfromtxt: Empty input file: \"/home/yingtao/Desktop/annote3D/maximafile/Results00.csv\"\n",
      "  temp = np.genfromtxt(files, delimiter=',')\n",
      "/home/yingtao/Desktop/annote3D/annote3D/somanote.py:128: UserWarning: genfromtxt: Empty input file: \"/home/yingtao/Desktop/annote3D/maximafile/Results01.csv\"\n",
      "  temp = np.genfromtxt(files, delimiter=',')\n",
      "/home/yingtao/Desktop/annote3D/annote3D/somanote.py:128: UserWarning: genfromtxt: Empty input file: \"/home/yingtao/Desktop/annote3D/maximafile/Results02.csv\"\n",
      "  temp = np.genfromtxt(files, delimiter=',')\n",
      "/home/yingtao/Desktop/annote3D/annote3D/somanote.py:128: UserWarning: genfromtxt: Empty input file: \"/home/yingtao/Desktop/annote3D/maximafile/Results03.csv\"\n",
      "  temp = np.genfromtxt(files, delimiter=',')\n",
      "/home/yingtao/Desktop/annote3D/annote3D/somanote.py:128: UserWarning: genfromtxt: Empty input file: \"/home/yingtao/Desktop/annote3D/maximafile/Results04.csv\"\n",
      "  temp = np.genfromtxt(files, delimiter=',')\n",
      "/home/yingtao/Desktop/annote3D/annote3D/somanote.py:128: UserWarning: genfromtxt: Empty input file: \"/home/yingtao/Desktop/annote3D/maximafile/Results05.csv\"\n",
      "  temp = np.genfromtxt(files, delimiter=',')\n",
      "/home/yingtao/Desktop/annote3D/annote3D/somanote.py:128: UserWarning: genfromtxt: Empty input file: \"/home/yingtao/Desktop/annote3D/maximafile/Results06.csv\"\n",
      "  temp = np.genfromtxt(files, delimiter=',')\n",
      "/home/yingtao/Desktop/annote3D/annote3D/somanote.py:128: UserWarning: genfromtxt: Empty input file: \"/home/yingtao/Desktop/annote3D/maximafile/Results48.csv\"\n",
      "  temp = np.genfromtxt(files, delimiter=',')\n",
      "/home/yingtao/Desktop/annote3D/annote3D/somanote.py:128: UserWarning: genfromtxt: Empty input file: \"/home/yingtao/Desktop/annote3D/maximafile/Results49.csv\"\n",
      "  temp = np.genfromtxt(files, delimiter=',')\n",
      "/home/yingtao/Desktop/annote3D/annote3D/somanote.py:128: UserWarning: genfromtxt: Empty input file: \"/home/yingtao/Desktop/annote3D/maximafile/Results50.csv\"\n",
      "  temp = np.genfromtxt(files, delimiter=',')\n",
      "/home/yingtao/Desktop/annote3D/annote3D/somanote.py:128: UserWarning: genfromtxt: Empty input file: \"/home/yingtao/Desktop/annote3D/maximafile/Results51.csv\"\n",
      "  temp = np.genfromtxt(files, delimiter=',')\n",
      "/home/yingtao/Desktop/annote3D/annote3D/somanote.py:128: UserWarning: genfromtxt: Empty input file: \"/home/yingtao/Desktop/annote3D/maximafile/Results52.csv\"\n",
      "  temp = np.genfromtxt(files, delimiter=',')\n",
      "/home/yingtao/Desktop/annote3D/annote3D/somanote.py:128: UserWarning: genfromtxt: Empty input file: \"/home/yingtao/Desktop/annote3D/maximafile/Results53.csv\"\n",
      "  temp = np.genfromtxt(files, delimiter=',')\n",
      "/home/yingtao/Desktop/annote3D/annote3D/somanote.py:128: UserWarning: genfromtxt: Empty input file: \"/home/yingtao/Desktop/annote3D/maximafile/Results54.csv\"\n",
      "  temp = np.genfromtxt(files, delimiter=',')\n",
      "/home/yingtao/Desktop/annote3D/annote3D/somanote.py:128: UserWarning: genfromtxt: Empty input file: \"/home/yingtao/Desktop/annote3D/maximafile/Results55.csv\"\n",
      "  temp = np.genfromtxt(files, delimiter=',')\n",
      "/home/yingtao/Desktop/annote3D/annote3D/somanote.py:128: UserWarning: genfromtxt: Empty input file: \"/home/yingtao/Desktop/annote3D/maximafile/Results56.csv\"\n",
      "  temp = np.genfromtxt(files, delimiter=',')\n",
      "/home/yingtao/Desktop/annote3D/annote3D/somanote.py:128: UserWarning: genfromtxt: Empty input file: \"/home/yingtao/Desktop/annote3D/maximafile/Results77.csv\"\n",
      "  temp = np.genfromtxt(files, delimiter=',')\n",
      "/home/yingtao/Desktop/annote3D/annote3D/somanote.py:128: UserWarning: genfromtxt: Empty input file: \"/home/yingtao/Desktop/annote3D/maximafile/Results78.csv\"\n",
      "  temp = np.genfromtxt(files, delimiter=',')\n",
      "/home/yingtao/Desktop/annote3D/annote3D/somanote.py:128: UserWarning: genfromtxt: Empty input file: \"/home/yingtao/Desktop/annote3D/maximafile/Results79.csv\"\n",
      "  temp = np.genfromtxt(files, delimiter=',')\n",
      "/home/yingtao/Desktop/annote3D/annote3D/somanote.py:128: UserWarning: genfromtxt: Empty input file: \"/home/yingtao/Desktop/annote3D/maximafile/Results80.csv\"\n",
      "  temp = np.genfromtxt(files, delimiter=',')\n",
      "/home/yingtao/Desktop/annote3D/annote3D/somanote.py:128: UserWarning: genfromtxt: Empty input file: \"/home/yingtao/Desktop/annote3D/maximafile/Results81.csv\"\n",
      "  temp = np.genfromtxt(files, delimiter=',')\n",
      "/home/yingtao/Desktop/annote3D/annote3D/somanote.py:128: UserWarning: genfromtxt: Empty input file: \"/home/yingtao/Desktop/annote3D/maximafile/Results82.csv\"\n",
      "  temp = np.genfromtxt(files, delimiter=',')\n",
      "/home/yingtao/Desktop/annote3D/annote3D/somanote.py:128: UserWarning: genfromtxt: Empty input file: \"/home/yingtao/Desktop/annote3D/maximafile/Results83.csv\"\n",
      "  temp = np.genfromtxt(files, delimiter=',')\n",
      "/home/yingtao/Desktop/annote3D/annote3D/somanote.py:128: UserWarning: genfromtxt: Empty input file: \"/home/yingtao/Desktop/annote3D/maximafile/Results84.csv\"\n",
      "  temp = np.genfromtxt(files, delimiter=',')\n",
      "/home/yingtao/Desktop/annote3D/annote3D/somanote.py:128: UserWarning: genfromtxt: Empty input file: \"/home/yingtao/Desktop/annote3D/maximafile/Results85.csv\"\n",
      "  temp = np.genfromtxt(files, delimiter=',')\n",
      "/home/yingtao/Desktop/annote3D/annote3D/somanote.py:128: UserWarning: genfromtxt: Empty input file: \"/home/yingtao/Desktop/annote3D/maximafile/Results86.csv\"\n",
      "  temp = np.genfromtxt(files, delimiter=',')\n",
      "/home/yingtao/Desktop/annote3D/annote3D/somanote.py:128: UserWarning: genfromtxt: Empty input file: \"/home/yingtao/Desktop/annote3D/maximafile/Results87.csv\"\n",
      "  temp = np.genfromtxt(files, delimiter=',')\n",
      "/home/yingtao/Desktop/annote3D/annote3D/somanote.py:128: UserWarning: genfromtxt: Empty input file: \"/home/yingtao/Desktop/annote3D/maximafile/Results88.csv\"\n",
      "  temp = np.genfromtxt(files, delimiter=',')\n",
      "/home/yingtao/Desktop/annote3D/annote3D/somanote.py:128: UserWarning: genfromtxt: Empty input file: \"/home/yingtao/Desktop/annote3D/maximafile/Results89.csv\"\n",
      "  temp = np.genfromtxt(files, delimiter=',')\n",
      "/home/yingtao/Desktop/annote3D/annote3D/somanote.py:128: UserWarning: genfromtxt: Empty input file: \"/home/yingtao/Desktop/annote3D/maximafile/Results90.csv\"\n",
      "  temp = np.genfromtxt(files, delimiter=',')\n",
      "/home/yingtao/Desktop/annote3D/annote3D/somanote.py:128: UserWarning: genfromtxt: Empty input file: \"/home/yingtao/Desktop/annote3D/maximafile/Results91.csv\"\n",
      "  temp = np.genfromtxt(files, delimiter=',')\n",
      "/home/yingtao/Desktop/annote3D/annote3D/somanote.py:128: UserWarning: genfromtxt: Empty input file: \"/home/yingtao/Desktop/annote3D/maximafile/Results92.csv\"\n",
      "  temp = np.genfromtxt(files, delimiter=',')\n",
      "/home/yingtao/Desktop/annote3D/annote3D/somanote.py:128: UserWarning: genfromtxt: Empty input file: \"/home/yingtao/Desktop/annote3D/maximafile/Results93.csv\"\n",
      "  temp = np.genfromtxt(files, delimiter=',')\n",
      "/home/yingtao/Desktop/annote3D/annote3D/somanote.py:128: UserWarning: genfromtxt: Empty input file: \"/home/yingtao/Desktop/annote3D/maximafile/Results94.csv\"\n",
      "  temp = np.genfromtxt(files, delimiter=',')\n",
      "/home/yingtao/Desktop/annote3D/annote3D/somanote.py:128: UserWarning: genfromtxt: Empty input file: \"/home/yingtao/Desktop/annote3D/maximafile/Results95.csv\"\n",
      "  temp = np.genfromtxt(files, delimiter=',')\n",
      "/home/yingtao/Desktop/annote3D/annote3D/somanote.py:128: UserWarning: genfromtxt: Empty input file: \"/home/yingtao/Desktop/annote3D/maximafile/Results96.csv\"\n",
      "  temp = np.genfromtxt(files, delimiter=',')\n",
      "/home/yingtao/Desktop/annote3D/annote3D/somanote.py:128: UserWarning: genfromtxt: Empty input file: \"/home/yingtao/Desktop/annote3D/maximafile/Results97.csv\"\n",
      "  temp = np.genfromtxt(files, delimiter=',')\n",
      "/home/yingtao/Desktop/annote3D/annote3D/somanote.py:128: UserWarning: genfromtxt: Empty input file: \"/home/yingtao/Desktop/annote3D/maximafile/Results98.csv\"\n",
      "  temp = np.genfromtxt(files, delimiter=',')\n",
      "/usr/local/lib/python3.5/dist-packages/skimage/io/_io.py:132: UserWarning: /home/yingtao/Desktop/annote3D/origin.tif is a low contrast image\n",
      "  warn('%s is a low contrast image' % fname)\n"
     ]
    },
    {
     "name": "stdout",
     "output_type": "stream",
     "text": [
      "What's the index of circled neuron? 15\n",
      "neuron + 15\n",
      "What's the index of circled neuron? 37\n",
      "neuron + 37\n",
      "What's the index of circled neuron? 38\n",
      "neuron + 38\n",
      "What's the index of circled neuron? 47\n",
      "neuron + 47\n",
      "What's the index of circled neuron? e\n",
      "next image\n",
      "Init 1/3 with method: k-means++\n",
      "Inertia for init 1/3: 10582483.565586\n",
      "Init 2/3 with method: k-means++\n",
      "Inertia for init 2/3: 10539090.466690\n",
      "Init 3/3 with method: k-means++\n",
      "Inertia for init 3/3: 12122520.433305\n",
      "Minibatch iteration 1/2100: mean batch inertia: 3.449320, ewa inertia: 3.449320 \n",
      "Minibatch iteration 2/2100: mean batch inertia: 3.417317, ewa inertia: 3.446232 \n",
      "Minibatch iteration 3/2100: mean batch inertia: 3.546938, ewa inertia: 3.455948 \n",
      "Minibatch iteration 4/2100: mean batch inertia: 3.473533, ewa inertia: 3.457644 \n",
      "Minibatch iteration 5/2100: mean batch inertia: 3.523585, ewa inertia: 3.464006 \n",
      "Minibatch iteration 6/2100: mean batch inertia: 3.558539, ewa inertia: 3.473126 \n",
      "Minibatch iteration 7/2100: mean batch inertia: 3.448372, ewa inertia: 3.470738 \n",
      "Minibatch iteration 8/2100: mean batch inertia: 3.470744, ewa inertia: 3.470739 \n",
      "Minibatch iteration 9/2100: mean batch inertia: 3.547892, ewa inertia: 3.478182 \n",
      "Minibatch iteration 10/2100: mean batch inertia: 3.496265, ewa inertia: 3.479927 \n",
      "Minibatch iteration 11/2100: mean batch inertia: 3.504540, ewa inertia: 3.482301 \n",
      "Minibatch iteration 12/2100: mean batch inertia: 3.509919, ewa inertia: 3.484966 \n",
      "Converged (lack of improvement in inertia) at iteration 12/2100\n",
      "Computing label assignment and total inertia\n"
     ]
    },
    {
     "name": "stderr",
     "output_type": "stream",
     "text": [
      "/usr/local/lib/python3.5/dist-packages/skimage/morphology/misc.py:122: UserWarning: Only one label was provided to `remove_small_objects`. Did you mean to use a boolean array?\n",
      "  warn(\"Only one label was provided to `remove_small_objects`. \"\n",
      "/usr/local/lib/python3.5/dist-packages/skimage/io/_io.py:132: UserWarning: /home/yingtao/Desktop/annote3D/original_images/1106.tif is a low contrast image\n",
      "  warn('%s is a low contrast image' % fname)\n",
      "/home/yingtao/Desktop/annote3D/annote3D/somanote.py:128: UserWarning: genfromtxt: Empty input file: \"/home/yingtao/Desktop/annote3D/maximafile/Results00.csv\"\n",
      "  temp = np.genfromtxt(files, delimiter=',')\n",
      "/home/yingtao/Desktop/annote3D/annote3D/somanote.py:128: UserWarning: genfromtxt: Empty input file: \"/home/yingtao/Desktop/annote3D/maximafile/Results01.csv\"\n",
      "  temp = np.genfromtxt(files, delimiter=',')\n",
      "/home/yingtao/Desktop/annote3D/annote3D/somanote.py:128: UserWarning: genfromtxt: Empty input file: \"/home/yingtao/Desktop/annote3D/maximafile/Results02.csv\"\n",
      "  temp = np.genfromtxt(files, delimiter=',')\n",
      "/home/yingtao/Desktop/annote3D/annote3D/somanote.py:128: UserWarning: genfromtxt: Empty input file: \"/home/yingtao/Desktop/annote3D/maximafile/Results03.csv\"\n",
      "  temp = np.genfromtxt(files, delimiter=',')\n",
      "/home/yingtao/Desktop/annote3D/annote3D/somanote.py:128: UserWarning: genfromtxt: Empty input file: \"/home/yingtao/Desktop/annote3D/maximafile/Results04.csv\"\n",
      "  temp = np.genfromtxt(files, delimiter=',')\n",
      "/home/yingtao/Desktop/annote3D/annote3D/somanote.py:128: UserWarning: genfromtxt: Empty input file: \"/home/yingtao/Desktop/annote3D/maximafile/Results05.csv\"\n",
      "  temp = np.genfromtxt(files, delimiter=',')\n",
      "/home/yingtao/Desktop/annote3D/annote3D/somanote.py:128: UserWarning: genfromtxt: Empty input file: \"/home/yingtao/Desktop/annote3D/maximafile/Results69.csv\"\n",
      "  temp = np.genfromtxt(files, delimiter=',')\n",
      "/home/yingtao/Desktop/annote3D/annote3D/somanote.py:128: UserWarning: genfromtxt: Empty input file: \"/home/yingtao/Desktop/annote3D/maximafile/Results70.csv\"\n",
      "  temp = np.genfromtxt(files, delimiter=',')\n",
      "/home/yingtao/Desktop/annote3D/annote3D/somanote.py:128: UserWarning: genfromtxt: Empty input file: \"/home/yingtao/Desktop/annote3D/maximafile/Results71.csv\"\n",
      "  temp = np.genfromtxt(files, delimiter=',')\n",
      "/home/yingtao/Desktop/annote3D/annote3D/somanote.py:128: UserWarning: genfromtxt: Empty input file: \"/home/yingtao/Desktop/annote3D/maximafile/Results72.csv\"\n",
      "  temp = np.genfromtxt(files, delimiter=',')\n",
      "/home/yingtao/Desktop/annote3D/annote3D/somanote.py:128: UserWarning: genfromtxt: Empty input file: \"/home/yingtao/Desktop/annote3D/maximafile/Results73.csv\"\n",
      "  temp = np.genfromtxt(files, delimiter=',')\n",
      "/home/yingtao/Desktop/annote3D/annote3D/somanote.py:128: UserWarning: genfromtxt: Empty input file: \"/home/yingtao/Desktop/annote3D/maximafile/Results79.csv\"\n",
      "  temp = np.genfromtxt(files, delimiter=',')\n",
      "/home/yingtao/Desktop/annote3D/annote3D/somanote.py:128: UserWarning: genfromtxt: Empty input file: \"/home/yingtao/Desktop/annote3D/maximafile/Results80.csv\"\n",
      "  temp = np.genfromtxt(files, delimiter=',')\n",
      "/home/yingtao/Desktop/annote3D/annote3D/somanote.py:128: UserWarning: genfromtxt: Empty input file: \"/home/yingtao/Desktop/annote3D/maximafile/Results81.csv\"\n",
      "  temp = np.genfromtxt(files, delimiter=',')\n",
      "/home/yingtao/Desktop/annote3D/annote3D/somanote.py:128: UserWarning: genfromtxt: Empty input file: \"/home/yingtao/Desktop/annote3D/maximafile/Results82.csv\"\n",
      "  temp = np.genfromtxt(files, delimiter=',')\n",
      "/home/yingtao/Desktop/annote3D/annote3D/somanote.py:128: UserWarning: genfromtxt: Empty input file: \"/home/yingtao/Desktop/annote3D/maximafile/Results83.csv\"\n",
      "  temp = np.genfromtxt(files, delimiter=',')\n",
      "/home/yingtao/Desktop/annote3D/annote3D/somanote.py:128: UserWarning: genfromtxt: Empty input file: \"/home/yingtao/Desktop/annote3D/maximafile/Results84.csv\"\n",
      "  temp = np.genfromtxt(files, delimiter=',')\n",
      "/home/yingtao/Desktop/annote3D/annote3D/somanote.py:128: UserWarning: genfromtxt: Empty input file: \"/home/yingtao/Desktop/annote3D/maximafile/Results85.csv\"\n",
      "  temp = np.genfromtxt(files, delimiter=',')\n",
      "/home/yingtao/Desktop/annote3D/annote3D/somanote.py:128: UserWarning: genfromtxt: Empty input file: \"/home/yingtao/Desktop/annote3D/maximafile/Results86.csv\"\n",
      "  temp = np.genfromtxt(files, delimiter=',')\n",
      "/home/yingtao/Desktop/annote3D/annote3D/somanote.py:128: UserWarning: genfromtxt: Empty input file: \"/home/yingtao/Desktop/annote3D/maximafile/Results87.csv\"\n",
      "  temp = np.genfromtxt(files, delimiter=',')\n",
      "/home/yingtao/Desktop/annote3D/annote3D/somanote.py:128: UserWarning: genfromtxt: Empty input file: \"/home/yingtao/Desktop/annote3D/maximafile/Results88.csv\"\n",
      "  temp = np.genfromtxt(files, delimiter=',')\n",
      "/home/yingtao/Desktop/annote3D/annote3D/somanote.py:128: UserWarning: genfromtxt: Empty input file: \"/home/yingtao/Desktop/annote3D/maximafile/Results89.csv\"\n",
      "  temp = np.genfromtxt(files, delimiter=',')\n",
      "/home/yingtao/Desktop/annote3D/annote3D/somanote.py:128: UserWarning: genfromtxt: Empty input file: \"/home/yingtao/Desktop/annote3D/maximafile/Results90.csv\"\n",
      "  temp = np.genfromtxt(files, delimiter=',')\n",
      "/home/yingtao/Desktop/annote3D/annote3D/somanote.py:128: UserWarning: genfromtxt: Empty input file: \"/home/yingtao/Desktop/annote3D/maximafile/Results91.csv\"\n",
      "  temp = np.genfromtxt(files, delimiter=',')\n",
      "/home/yingtao/Desktop/annote3D/annote3D/somanote.py:128: UserWarning: genfromtxt: Empty input file: \"/home/yingtao/Desktop/annote3D/maximafile/Results92.csv\"\n",
      "  temp = np.genfromtxt(files, delimiter=',')\n",
      "/home/yingtao/Desktop/annote3D/annote3D/somanote.py:128: UserWarning: genfromtxt: Empty input file: \"/home/yingtao/Desktop/annote3D/maximafile/Results93.csv\"\n",
      "  temp = np.genfromtxt(files, delimiter=',')\n",
      "/home/yingtao/Desktop/annote3D/annote3D/somanote.py:128: UserWarning: genfromtxt: Empty input file: \"/home/yingtao/Desktop/annote3D/maximafile/Results94.csv\"\n",
      "  temp = np.genfromtxt(files, delimiter=',')\n",
      "/home/yingtao/Desktop/annote3D/annote3D/somanote.py:128: UserWarning: genfromtxt: Empty input file: \"/home/yingtao/Desktop/annote3D/maximafile/Results95.csv\"\n",
      "  temp = np.genfromtxt(files, delimiter=',')\n",
      "/home/yingtao/Desktop/annote3D/annote3D/somanote.py:128: UserWarning: genfromtxt: Empty input file: \"/home/yingtao/Desktop/annote3D/maximafile/Results96.csv\"\n",
      "  temp = np.genfromtxt(files, delimiter=',')\n",
      "/home/yingtao/Desktop/annote3D/annote3D/somanote.py:128: UserWarning: genfromtxt: Empty input file: \"/home/yingtao/Desktop/annote3D/maximafile/Results97.csv\"\n",
      "  temp = np.genfromtxt(files, delimiter=',')\n",
      "/home/yingtao/Desktop/annote3D/annote3D/somanote.py:128: UserWarning: genfromtxt: Empty input file: \"/home/yingtao/Desktop/annote3D/maximafile/Results98.csv\"\n",
      "  temp = np.genfromtxt(files, delimiter=',')\n",
      "/usr/local/lib/python3.5/dist-packages/skimage/io/_io.py:132: UserWarning: /home/yingtao/Desktop/annote3D/origin.tif is a low contrast image\n",
      "  warn('%s is a low contrast image' % fname)\n"
     ]
    },
    {
     "ename": "KeyboardInterrupt",
     "evalue": "",
     "output_type": "error",
     "traceback": [
      "\u001b[0;31m---------------------------------------------------------------------------\u001b[0m",
      "\u001b[0;31mKeyboardInterrupt\u001b[0m                         Traceback (most recent call last)",
      "\u001b[0;32m/usr/local/lib/python3.5/dist-packages/ipykernel/kernelbase.py\u001b[0m in \u001b[0;36m_input_request\u001b[0;34m(self, prompt, ident, parent, password)\u001b[0m\n\u001b[1;32m    714\u001b[0m             \u001b[0;32mtry\u001b[0m\u001b[0;34m:\u001b[0m\u001b[0;34m\u001b[0m\u001b[0m\n\u001b[0;32m--> 715\u001b[0;31m                 \u001b[0mident\u001b[0m\u001b[0;34m,\u001b[0m \u001b[0mreply\u001b[0m \u001b[0;34m=\u001b[0m \u001b[0mself\u001b[0m\u001b[0;34m.\u001b[0m\u001b[0msession\u001b[0m\u001b[0;34m.\u001b[0m\u001b[0mrecv\u001b[0m\u001b[0;34m(\u001b[0m\u001b[0mself\u001b[0m\u001b[0;34m.\u001b[0m\u001b[0mstdin_socket\u001b[0m\u001b[0;34m,\u001b[0m \u001b[0;36m0\u001b[0m\u001b[0;34m)\u001b[0m\u001b[0;34m\u001b[0m\u001b[0m\n\u001b[0m\u001b[1;32m    716\u001b[0m             \u001b[0;32mexcept\u001b[0m \u001b[0mException\u001b[0m\u001b[0;34m:\u001b[0m\u001b[0;34m\u001b[0m\u001b[0m\n",
      "\u001b[0;32m/usr/local/lib/python3.5/dist-packages/jupyter_client/session.py\u001b[0m in \u001b[0;36mrecv\u001b[0;34m(self, socket, mode, content, copy)\u001b[0m\n\u001b[1;32m    738\u001b[0m         \u001b[0;32mtry\u001b[0m\u001b[0;34m:\u001b[0m\u001b[0;34m\u001b[0m\u001b[0m\n\u001b[0;32m--> 739\u001b[0;31m             \u001b[0mmsg_list\u001b[0m \u001b[0;34m=\u001b[0m \u001b[0msocket\u001b[0m\u001b[0;34m.\u001b[0m\u001b[0mrecv_multipart\u001b[0m\u001b[0;34m(\u001b[0m\u001b[0mmode\u001b[0m\u001b[0;34m,\u001b[0m \u001b[0mcopy\u001b[0m\u001b[0;34m=\u001b[0m\u001b[0mcopy\u001b[0m\u001b[0;34m)\u001b[0m\u001b[0;34m\u001b[0m\u001b[0m\n\u001b[0m\u001b[1;32m    740\u001b[0m         \u001b[0;32mexcept\u001b[0m \u001b[0mzmq\u001b[0m\u001b[0;34m.\u001b[0m\u001b[0mZMQError\u001b[0m \u001b[0;32mas\u001b[0m \u001b[0me\u001b[0m\u001b[0;34m:\u001b[0m\u001b[0;34m\u001b[0m\u001b[0m\n",
      "\u001b[0;32m/usr/local/lib/python3.5/dist-packages/zmq/sugar/socket.py\u001b[0m in \u001b[0;36mrecv_multipart\u001b[0;34m(self, flags, copy, track)\u001b[0m\n\u001b[1;32m    394\u001b[0m         \"\"\"\n\u001b[0;32m--> 395\u001b[0;31m         \u001b[0mparts\u001b[0m \u001b[0;34m=\u001b[0m \u001b[0;34m[\u001b[0m\u001b[0mself\u001b[0m\u001b[0;34m.\u001b[0m\u001b[0mrecv\u001b[0m\u001b[0;34m(\u001b[0m\u001b[0mflags\u001b[0m\u001b[0;34m,\u001b[0m \u001b[0mcopy\u001b[0m\u001b[0;34m=\u001b[0m\u001b[0mcopy\u001b[0m\u001b[0;34m,\u001b[0m \u001b[0mtrack\u001b[0m\u001b[0;34m=\u001b[0m\u001b[0mtrack\u001b[0m\u001b[0;34m)\u001b[0m\u001b[0;34m]\u001b[0m\u001b[0;34m\u001b[0m\u001b[0m\n\u001b[0m\u001b[1;32m    396\u001b[0m         \u001b[0;31m# have first part already, only loop while more to receive\u001b[0m\u001b[0;34m\u001b[0m\u001b[0;34m\u001b[0m\u001b[0m\n",
      "\u001b[0;32mzmq/backend/cython/socket.pyx\u001b[0m in \u001b[0;36mzmq.backend.cython.socket.Socket.recv (zmq/backend/cython/socket.c:7288)\u001b[0;34m()\u001b[0m\n",
      "\u001b[0;32mzmq/backend/cython/socket.pyx\u001b[0m in \u001b[0;36mzmq.backend.cython.socket.Socket.recv (zmq/backend/cython/socket.c:7086)\u001b[0;34m()\u001b[0m\n",
      "\u001b[0;32mzmq/backend/cython/socket.pyx\u001b[0m in \u001b[0;36mzmq.backend.cython.socket._recv_copy (zmq/backend/cython/socket.c:2038)\u001b[0;34m()\u001b[0m\n",
      "\u001b[0;32m/usr/local/lib/python3.5/dist-packages/zmq/backend/cython/checkrc.pxd\u001b[0m in \u001b[0;36mzmq.backend.cython.checkrc._check_rc (zmq/backend/cython/socket.c:7603)\u001b[0;34m()\u001b[0m\n",
      "\u001b[0;31mKeyboardInterrupt\u001b[0m: ",
      "\nDuring handling of the above exception, another exception occurred:\n",
      "\u001b[0;31mKeyboardInterrupt\u001b[0m                         Traceback (most recent call last)",
      "\u001b[0;32m<ipython-input-2-699e5ea36b07>\u001b[0m in \u001b[0;36m<module>\u001b[0;34m()\u001b[0m\n\u001b[0;32m----> 1\u001b[0;31m \u001b[0msamples\u001b[0m\u001b[0;34m,\u001b[0m\u001b[0mlabels\u001b[0m \u001b[0;34m=\u001b[0m \u001b[0msomanote\u001b[0m\u001b[0;34m.\u001b[0m\u001b[0mbatch_label\u001b[0m\u001b[0;34m(\u001b[0m\u001b[0;34m'/media/yingtao/HDPC-UT/output/test/'\u001b[0m\u001b[0;34m)\u001b[0m\u001b[0;34m\u001b[0m\u001b[0m\n\u001b[0m",
      "\u001b[0;32m/home/yingtao/Desktop/annote3D/annote3D/somanote.py\u001b[0m in \u001b[0;36mbatch_label\u001b[0;34m(inputpath)\u001b[0m\n\u001b[1;32m    198\u001b[0m                           mypath + \"macros/showcirc.ijm\"])\n\u001b[1;32m    199\u001b[0m         \u001b[0;32mfor\u001b[0m \u001b[0mtemp\u001b[0m \u001b[0;32min\u001b[0m \u001b[0mdog_list\u001b[0m\u001b[0;34m:\u001b[0m\u001b[0;34m\u001b[0m\u001b[0m\n\u001b[0;32m--> 200\u001b[0;31m             \u001b[0ms\u001b[0m \u001b[0;34m=\u001b[0m \u001b[0minput\u001b[0m\u001b[0;34m(\u001b[0m\u001b[0;34m\"What's the index of circled neuron? \"\u001b[0m\u001b[0;34m)\u001b[0m\u001b[0;34m\u001b[0m\u001b[0m\n\u001b[0m\u001b[1;32m    201\u001b[0m             \u001b[0;32mif\u001b[0m \u001b[0ms\u001b[0m \u001b[0;34m==\u001b[0m \u001b[0;34m'e'\u001b[0m\u001b[0;34m:\u001b[0m\u001b[0;34m\u001b[0m\u001b[0m\n\u001b[1;32m    202\u001b[0m                 \u001b[0mprint\u001b[0m\u001b[0;34m(\u001b[0m\u001b[0;34m'next image'\u001b[0m\u001b[0;34m)\u001b[0m\u001b[0;34m\u001b[0m\u001b[0m\n",
      "\u001b[0;32m/usr/local/lib/python3.5/dist-packages/ipykernel/kernelbase.py\u001b[0m in \u001b[0;36mraw_input\u001b[0;34m(self, prompt)\u001b[0m\n\u001b[1;32m    688\u001b[0m             \u001b[0mself\u001b[0m\u001b[0;34m.\u001b[0m\u001b[0m_parent_ident\u001b[0m\u001b[0;34m,\u001b[0m\u001b[0;34m\u001b[0m\u001b[0m\n\u001b[1;32m    689\u001b[0m             \u001b[0mself\u001b[0m\u001b[0;34m.\u001b[0m\u001b[0m_parent_header\u001b[0m\u001b[0;34m,\u001b[0m\u001b[0;34m\u001b[0m\u001b[0m\n\u001b[0;32m--> 690\u001b[0;31m             \u001b[0mpassword\u001b[0m\u001b[0;34m=\u001b[0m\u001b[0;32mFalse\u001b[0m\u001b[0;34m,\u001b[0m\u001b[0;34m\u001b[0m\u001b[0m\n\u001b[0m\u001b[1;32m    691\u001b[0m         )\n\u001b[1;32m    692\u001b[0m \u001b[0;34m\u001b[0m\u001b[0m\n",
      "\u001b[0;32m/usr/local/lib/python3.5/dist-packages/ipykernel/kernelbase.py\u001b[0m in \u001b[0;36m_input_request\u001b[0;34m(self, prompt, ident, parent, password)\u001b[0m\n\u001b[1;32m    718\u001b[0m             \u001b[0;32mexcept\u001b[0m \u001b[0mKeyboardInterrupt\u001b[0m\u001b[0;34m:\u001b[0m\u001b[0;34m\u001b[0m\u001b[0m\n\u001b[1;32m    719\u001b[0m                 \u001b[0;31m# re-raise KeyboardInterrupt, to truncate traceback\u001b[0m\u001b[0;34m\u001b[0m\u001b[0;34m\u001b[0m\u001b[0m\n\u001b[0;32m--> 720\u001b[0;31m                 \u001b[0;32mraise\u001b[0m \u001b[0mKeyboardInterrupt\u001b[0m\u001b[0;34m\u001b[0m\u001b[0m\n\u001b[0m\u001b[1;32m    721\u001b[0m             \u001b[0;32melse\u001b[0m\u001b[0;34m:\u001b[0m\u001b[0;34m\u001b[0m\u001b[0m\n\u001b[1;32m    722\u001b[0m                 \u001b[0;32mbreak\u001b[0m\u001b[0;34m\u001b[0m\u001b[0m\n",
      "\u001b[0;31mKeyboardInterrupt\u001b[0m: "
     ]
    }
   ],
   "source": [
    "samples,labels = somanote.batch_label('/media/yingtao/HDPC-UT/output/test/')"
   ]
  },
  {
   "cell_type": "code",
   "execution_count": null,
   "metadata": {
    "collapsed": false
   },
   "outputs": [],
   "source": [
    "test_samples = somanote.batch_test()"
   ]
  },
  {
   "cell_type": "code",
   "execution_count": null,
   "metadata": {
    "collapsed": false
   },
   "outputs": [],
   "source": [
    "from sklearn.ensemble import RandomForestClassifier\n",
    "from sklearn.model_selection import StratifiedKFold\n",
    "skf  = StratifiedKFold(n_splits=3)\n",
    "for a,b in skf.split(samples, labels):\n",
    "    trainindex = a\n",
    "    testindex = b\n",
    "    break\n",
    "clf = RandomForestClassifier(max_depth=5, random_state=0, class_weight = 'balanced')"
   ]
  },
  {
   "cell_type": "code",
   "execution_count": null,
   "metadata": {
    "collapsed": false
   },
   "outputs": [],
   "source": [
    "clf.fit(samples, labels)"
   ]
  },
  {
   "cell_type": "code",
   "execution_count": null,
   "metadata": {
    "collapsed": true
   },
   "outputs": [],
   "source": [
    "for i in test_samples:\n",
    "    result = clf.predict(i)\n",
    "    np.savetxt('/home/yingtao/Desktop/annote3D/result',result)"
   ]
  },
  {
   "cell_type": "code",
   "execution_count": null,
   "metadata": {
    "collapsed": false
   },
   "outputs": [],
   "source": [
    "ls"
   ]
  },
  {
   "cell_type": "code",
   "execution_count": null,
   "metadata": {
    "collapsed": true
   },
   "outputs": [],
   "source": []
  }
 ],
 "metadata": {
  "kernelspec": {
   "display_name": "Python 3",
   "language": "python",
   "name": "python3"
  },
  "language_info": {
   "codemirror_mode": {
    "name": "ipython",
    "version": 3
   },
   "file_extension": ".py",
   "mimetype": "text/x-python",
   "name": "python",
   "nbconvert_exporter": "python",
   "pygments_lexer": "ipython3",
   "version": "3.5.2"
  }
 },
 "nbformat": 4,
 "nbformat_minor": 1
}
