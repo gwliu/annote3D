{
 "cells": [
  {
   "cell_type": "code",
   "execution_count": 1,
   "metadata": {
    "collapsed": true
   },
   "outputs": [],
   "source": [
    "import numpy as np\n",
    "from math import log\n",
    "import itertools\n",
    "from skimage.feature import peak_local_max \n",
    "from scipy import ndimage\n",
    "import skimage.io as io\n",
    "from skimage import filters\n",
    "import itertools as itt\n",
    "import preprocessor\n",
    "from math import log\n",
    "from os import listdir\n",
    "import subprocess\n",
    "from os.path import isfile, join\n",
    "import math"
   ]
  },
  {
   "cell_type": "code",
   "execution_count": 2,
   "metadata": {
    "collapsed": false
   },
   "outputs": [
    {
     "data": {
      "text/plain": [
       "'\\nDetect somata in janelia images\\n\\n'"
      ]
     },
     "execution_count": 2,
     "metadata": {},
     "output_type": "execute_result"
    }
   ],
   "source": [
    "\"\"\"\n",
    "Detect somata in janelia images\n",
    "\n",
    "\"\"\""
   ]
  },
  {
   "cell_type": "code",
   "execution_count": 3,
   "metadata": {
    "collapsed": false
   },
   "outputs": [],
   "source": [
    "mypath = '/home/yingtao/Desktop/annote3D/'\n",
    "desktop = '/home/yingtao/Desktop/'"
   ]
  },
  {
   "cell_type": "code",
   "execution_count": 4,
   "metadata": {
    "collapsed": true
   },
   "outputs": [],
   "source": [
    "##old fast function to prune skimage detected result\n",
    "def _prune_fast(blobs, overlap, ratio):\n",
    "    newblobs = [p for i, p in enumerate(blobs) if all(_distance(k, p, ratio)>overlap for k in blobs[i+1:])]\n",
    "    return newblobs"
   ]
  },
  {
   "cell_type": "code",
   "execution_count": 5,
   "metadata": {
    "collapsed": true
   },
   "outputs": [],
   "source": [
    "##old functions to prune skimage detected result\n",
    "#Prune close points\n",
    "def _distance(blob1, blob2, ratio):\n",
    "    dif = np.array([(blob1[0]-blob2[0])*ratio, blob1[1]-blob2[1],  blob1[2]-blob2[2]])\n",
    "    dis = np.linalg.norm(dif)\n",
    "    return dis\n",
    "def _prune_blobs(blobs, overlap, ratio):\n",
    "    for blob1, blob2 in itt.combinations(blobs, 2):\n",
    "        if _distance(blob1, blob2, ratio) < overlap:\n",
    "            if blob1[3] > blob2[3]:\n",
    "                blob2[3] = 0\n",
    "            else:\n",
    "                blob1[3] = 0\n",
    "    return blobs"
   ]
  },
  {
   "cell_type": "code",
   "execution_count": 6,
   "metadata": {
    "collapsed": false
   },
   "outputs": [],
   "source": [
    "def getboxslice(image,center,xd,yd):\n",
    "    center = center.astype('int')\n",
    "    try:\n",
    "        temp = image[center[0] - 1,\n",
    "                     center[2]-xd//2:center[2]+xd//2+1, \n",
    "                     center[1]-yd//2:center[1]+yd//2+1,\n",
    "                     ]\n",
    "        if temp.size == xd*yd:\n",
    "            return temp\n",
    "        else:\n",
    "            return 0 \n",
    "    except IndexError:\n",
    "        return 0\n",
    "def _discenter(x,y,xd,yd):\n",
    "    dis = (x - xd//2) ** 2 / (xd//2) ** 2  + (y - yd//2) ** 2 / (yd//2) ** 2\n",
    "    if  0.2 < dis < 0.8:\n",
    "        return 1\n",
    "    else:\n",
    "        return 0\n",
    "#return a ellipse sphere kernal\n",
    "def addvalue(dog_list, image):\n",
    "    xd, yd = 21, 21\n",
    "    temp = [_discenter(x, y, xd, yd) for x in range(xd) for y in range(yd)]\n",
    "    coin_kernel = np.array(temp).reshape(xd,yd)\n",
    "    pixelvalue = np.array([np.sum(coin_kernel * getboxslice(image, i, xd, yd)) for i in dog_list])\n",
    "    return np.concatenate([dog_list,pixelvalue.reshape(-1,1)],axis=1)\n",
    "def _distance(blob1, blob2):\n",
    "    dif = np.array([blob1[1]-blob2[1],  blob1[2]-blob2[2]])\n",
    "    dis = np.linalg.norm(dif)\n",
    "    return dis\n",
    "def _prune_blobs(blobs, overlap):\n",
    "    for i, blob1 in enumerate(blobs):\n",
    "        k = blob1[0]\n",
    "        for blob2 in blobs[i:,]:\n",
    "            if blob2[0] - k > 2.5:\n",
    "                break\n",
    "            if _distance(blob1, blob2) < overlap and 0 < abs(blob1[0] - blob2[0]) < 3:\n",
    "                if blob1[3] > blob2[3]:\n",
    "                    blob2[3] = 0\n",
    "                else:\n",
    "                    blob1[3] = 0\n",
    "    blobs = np.array([blob for blob in blobs if blob[3] != 0])\n",
    "    return blobs"
   ]
  },
  {
   "cell_type": "code",
   "execution_count": null,
   "metadata": {
    "collapsed": false
   },
   "outputs": [],
   "source": []
  },
  {
   "cell_type": "code",
   "execution_count": null,
   "metadata": {
    "collapsed": false
   },
   "outputs": [],
   "source": []
  },
  {
   "cell_type": "code",
   "execution_count": 8,
   "metadata": {
    "collapsed": true
   },
   "outputs": [],
   "source": [
    "#calculate dog, detect peaks\n",
    "def dog_maxima(terminal, sigma, zx_ratio=4, blur_sigma=0.3, size = 8, prune_dis = 2):\n",
    "    s = sigma\n",
    "    gaussian_images0 = ndimage.gaussian_filter(terminal, (s/4, s,s))\n",
    "    gaussian_images1 = ndimage.gaussian_filter(terminal, ((s*1.3)/4, s*1.3,s*1.3))\n",
    "    dog_image = np.abs((gaussian_images1* 1.3 ** 3).astype('int16') - gaussian_images0.astype(\"int16\"))\n",
    "    dog_list = getmaxima(dog_image)\n",
    "    \n",
    "    #blurred = ndimage.filters.gaussian_filter(dog_image.astype(\"int16\"), sigma=(blur_sigma/zx_ratio, blur_sigma, blur_sigma))\n",
    "    #local_maxima = peak_local_max(dog_image, min_distance=5, threshold_rel=0.05, exclude_border=True, num_peaks_per_label==1000)#, threshold_abs=s, footprint=np.ones([size//zx_ratio + 1, size, size]))\n",
    "    #print('a')\n",
    "    #dog_list = [1,1]\n",
    "    #dog_list = _prune_fast(local_maxima, prune_dis, zx_ratio)\n",
    "    return dog_list, np.swapaxes(dog_image,1,2) #dog_list_pruned, dog_images, blurred"
   ]
  },
  {
   "cell_type": "code",
   "execution_count": 9,
   "metadata": {
    "collapsed": true
   },
   "outputs": [],
   "source": [
    "#detect peaks by imagej function\n",
    "\n",
    "def getfiles(filepath):\n",
    "    files = [join(filepath, f) for f in listdir(filepath) if isfile(join(filepath, f))]\n",
    "    files.sort()\n",
    "    return files\n",
    "def getlsmfiles(filepath):\n",
    "    files = [join(filepath, f) for f in listdir(filepath) if f[-3:] == 'lsm']\n",
    "    files.sort()\n",
    "    return files\n",
    "def getmaxima(dog_image):\n",
    "    io.imsave(mypath +'original_images/1106.tif', dog_image.astype('int16'))\n",
    "    p = subprocess.Popen(['xvfb-run','-a', desktop + \"Fiji.app/./ImageJ-linux64\", \"-macro\",\n",
    "                          mypath + \"macros/findmaxima.ijm\"])\n",
    "    p.wait()\n",
    "    onlyfiles = getfiles(mypath + \"maximafile\")\n",
    "    maxima_data = np.empty([0,3])\n",
    "    for i, files in enumerate(onlyfiles):\n",
    "        temp = np.genfromtxt(files, delimiter=',')\n",
    "        try:\n",
    "            temp[:, 0] = i + 1\n",
    "        except IndexError:\n",
    "            continue           \n",
    "        maxima_data = np.append(maxima_data, temp, axis = 0)\n",
    "    dog_list = np.array([i for i in maxima_data if not math.isnan(i[1])])\n",
    "    p = subprocess.Popen(\"rm \"+ mypath + \"maximafile/*\", shell = True)\n",
    "    #order of coordinate z,x,y\n",
    "    return dog_list"
   ]
  },
  {
   "cell_type": "code",
   "execution_count": 10,
   "metadata": {
    "collapsed": true
   },
   "outputs": [],
   "source": [
    "#image = io.imread('/home/yingtao/Desktop/annote3D/original_images/1106.tif')"
   ]
  },
  {
   "cell_type": "code",
   "execution_count": 11,
   "metadata": {
    "collapsed": false
   },
   "outputs": [],
   "source": [
    "#dog_list, dog_image = dog_maxima_signal_sigma(image, 2, size = 7)"
   ]
  },
  {
   "cell_type": "code",
   "execution_count": 12,
   "metadata": {
    "collapsed": false
   },
   "outputs": [],
   "source": [
    "#p = subprocess.Popen([\"xvfb-run\",\"-a\", Desktop + \"Fiji.app/./ImageJ-linux64\", \"-macro\", \"/home/yingtao/Desktop/annote3D/findmaxima/findmaxima.ijm\"])\n",
    "#p.wait()"
   ]
  },
  {
   "cell_type": "code",
   "execution_count": 13,
   "metadata": {
    "collapsed": false
   },
   "outputs": [],
   "source": [
    "#io.imsave('/home/liu/Desktop/cell=annotation=3D/original_images/1106.tif', dog_image.astype('int16'))\n",
    "#np.savetxt(\"/home/liu/Desktop/cell=annotation=3D/dogs.txt\", dog_list)\n"
   ]
  },
  {
   "cell_type": "code",
   "execution_count": 14,
   "metadata": {
    "collapsed": false
   },
   "outputs": [],
   "source": [
    "#prepare sample\n",
    "def samplefromindex(dog_list, positive_labels, image, xysize):\n",
    "    samples = np.empty([0, sample_size])\n",
    "    labels = []\n",
    "    for i, coord in enumerate(dog_list):\n",
    "        coord = coord.astype(int)\n",
    "        if coord[0] < xysize//xz_ratio:\n",
    "            coord[0] = xysize//xz_ratio\n",
    "        elif coord[0] > image.shape[0] - xysize//xz_ratio - 0.5:\n",
    "            coord[0] = image.shape[0] - xysize//xz_ratio - 1\n",
    "        if coord[1] < xysize + 0.5:\n",
    "            coord[1] = xysize\n",
    "        elif coord[1] > image.shape[2] - xysize - 0.5:\n",
    "            coord[1] = image.shape[2] - xysize - 1\n",
    "        if coord[2]< xysize + 0.5:\n",
    "            coord[2] = xysize\n",
    "        elif coord[2] > image.shape[1] - xysize - 0.5:\n",
    "            coord[2] = image.shape[1] - xysize - 1\n",
    "        coord_slice = np.index_exp[coord[0]-xysize//xz_ratio:coord[0]+xysize//xz_ratio+1, \n",
    "                                      coord[2]-xysize:coord[2]+xysize+1,  coord[1]-xysize:coord[1]+xysize+1]\n",
    "        temp = image[coord_slice].flatten()\n",
    "        if temp.shape[0] == samples.shape[1]:\n",
    "            temp = temp.reshape(1,-1)\n",
    "            samples = np.append(samples, temp, axis=0)\n",
    "        else:\n",
    "            print(i)\n",
    "            continue\n",
    "        if i in positive_labels:\n",
    "            labels.append(1)\n",
    "        else:\n",
    "            labels.append(0)\n",
    "    return samples, labels"
   ]
  },
  {
   "cell_type": "code",
   "execution_count": 15,
   "metadata": {
    "collapsed": false
   },
   "outputs": [
    {
     "ename": "SyntaxError",
     "evalue": "invalid syntax (<ipython-input-15-6488497b7492>, line 12)",
     "output_type": "error",
     "traceback": [
      "\u001b[0;36m  File \u001b[0;32m\"<ipython-input-15-6488497b7492>\"\u001b[0;36m, line \u001b[0;32m12\u001b[0m\n\u001b[0;31m    if _distance()\u001b[0m\n\u001b[0m                  ^\u001b[0m\n\u001b[0;31mSyntaxError\u001b[0m\u001b[0;31m:\u001b[0m invalid syntax\n"
     ]
    }
   ],
   "source": [
    "def _prune_fast(blobs, overlap, ratio):\n",
    "    temp = [k for i,p in enumerate(blobs) if _distance(k, p)<5 for k in blobs[i+1:,]]\n",
    "    temp = tuple(temp)\n",
    "    lowest = blobs - temp\n",
    "    temp = [p for i,p in enumerate(blobs) if _distance(k, p)<10 for k in blobs[i+1:,]]\n",
    "    temp = tuple(blobs)\n",
    "    highest = blobs - temp\n",
    "    newblobs = [p for i, p in enumerate(blobs) if _distance(k, p, ratio)>overlap for k in blobs[i+1:]]\n",
    "    return newblobs\n",
    "\n",
    "for i, j in dog_list:\n",
    "    if _distance()"
   ]
  },
  {
   "cell_type": "code",
   "execution_count": 11,
   "metadata": {
    "collapsed": true
   },
   "outputs": [],
   "source": [
    "def _distance(blob1, blob2):\n",
    "    if np.absolute(blob1[0] - blob2[0]) == 1:\n",
    "        dif = np.array([blob1[1]-blob2[1],  blob1[2]-blob2[2]])\n",
    "        dis = np.linalg.norm(dif)\n",
    "        return dis\n",
    "    else:\n",
    "        return(100)\n",
    "\n",
    "def _mid(a, b):\n",
    "    mid = ((np.array(a) + np.array(b))//2).astype('int')\n",
    "    #return mid\n",
    "    return mid"
   ]
  },
  {
   "cell_type": "code",
   "execution_count": 12,
   "metadata": {
    "collapsed": false
   },
   "outputs": [],
   "source": [
    "def merge(blob_list):\n",
    "    blobs = [tuple(i) for i in blob_list]\n",
    "    temp = [k for i,p in enumerate(blobs) for k in blobs[i+1:] if _distance(k, p)<2]\n",
    "    lowest =list(set(blobs) - set(temp))\n",
    "    temp = [p for i,p in enumerate(blobs) for k in blobs[i+1:] if _distance(k, p)<2]\n",
    "    highest =list(set(blobs) - set(temp))\n",
    "    dis = np.array([_dis(k,p) for k in highest for p in lowest])\n",
    "    dismat = dis.reshape(int(dis.size ** 0.5), -1)\n",
    "    mins = np.argmin(dismat, axis = 0)\n",
    "    merged = [_mid(a, highest[b]) for a,b in zip(lowest, mins)]\n",
    "    return merged"
   ]
  },
  {
   "cell_type": "code",
   "execution_count": 21,
   "metadata": {
    "collapsed": false
   },
   "outputs": [
    {
     "name": "stderr",
     "output_type": "stream",
     "text": [
      "/usr/local/lib/python3.5/dist-packages/skimage/io/_io.py:132: UserWarning: /home/yingtao/Desktop/temp.tif is a low contrast image\n",
      "  warn('%s is a low contrast image' % fname)\n"
     ]
    }
   ],
   "source": [
    "io.imsave(\"/home/yingtao/Desktop/temp.tif\", image.astype('uint8'))"
   ]
  },
  {
   "cell_type": "code",
   "execution_count": null,
   "metadata": {
    "collapsed": false
   },
   "outputs": [
    {
     "name": "stdout",
     "output_type": "stream",
     "text": [
      "next\n"
     ]
    }
   ],
   "source": [
    "#create labelled images. Image and labels is shown in imagej\n",
    "labels = []\n",
    "plabels_indiv = []\n",
    "samples_indiv = []\n",
    "sample_xysize = 15\n",
    "xz_ratio = 4\n",
    "sample_size = (sample_xysize//xz_ratio * 2 + 1)*(sample_xysize*2 + 1)**2\n",
    "samples = np.empty([0, sample_size])\n",
    "janl_lsms = getlsmfiles(mypath + \"janelia_gal4\")\n",
    "\n",
    "for i, janl_lsm in enumerate(janl_lsms):\n",
    "    if i == 0:\n",
    "        print('next')\n",
    "        continue\n",
    "    image, origin_image = preprocessor.prepro(janl_lsm)\n",
    "    dog_list, dog_image = dog_maxima(image, 2, size =7)\n",
    "    dog_list = addvalue(dog_list, origin_image)\n",
    "    dog_list = _prune_blobs(dog_list, 10)\n",
    "    np.savetxt(mypath + 'dog_maxima', dog_list)\n",
    "    io.imsave(mypath + 'origin.tif', origin_image.astype(\"int16\"))\n",
    "    p = subprocess.Popen([desktop + \"Fiji.app/./ImageJ-linux64\", \"-macro\",\n",
    "                      mypath + \"macros/showcirc.ijm\"])\n",
    "    for temp in dog_list:\n",
    "        s = input(\"What's the index of circled neuron? \")\n",
    "        if s == 'e':\n",
    "            print('next image')\n",
    "            samples_indiv, labels_indiv = samplefromindex(dog_list, plabels_indiv, \n",
    "                                                                      origin_image, sample_xysize)\n",
    "            samples = np.append(samples, samples_indiv, axis = 0)\n",
    "            labels.extend(labels_indiv)\n",
    "            plabels_indiv =[]\n",
    "            break\n",
    "        if s == 'd':\n",
    "            print('deleteone')\n",
    "            plabels_indiv.pop()\n",
    "        if s == 'n':\n",
    "            print('neglect it')\n",
    "            break\n",
    "        try:\n",
    "            plabels_indiv.append(int(s))\n",
    "        except ValueError:\n",
    "            print('do it again!')\n",
    "        print(\"neuron + \" +s+\"\")\n",
    "    np.savetxt(mypath + 'labeled_samples_file/' + str(i) + 'samples.txt', samples_indiv)\n",
    "    np.savetxt(mypath + 'labeled_samples_file/' + str(i) + 'labels.txt', labels_indiv)\n",
    "    "
   ]
  },
  {
   "cell_type": "code",
   "execution_count": 243,
   "metadata": {
    "collapsed": false
   },
   "outputs": [],
   "source": [
    "from skimage.segmentation import watershed"
   ]
  },
  {
   "cell_type": "code",
   "execution_count": 265,
   "metadata": {
    "collapsed": false
   },
   "outputs": [],
   "source": [
    "clf.score?"
   ]
  },
  {
   "cell_type": "code",
   "execution_count": 33,
   "metadata": {
    "collapsed": false
   },
   "outputs": [
    {
     "data": {
      "text/plain": [
       "array([[ 6.,  3.,  3., ...,  2.,  2.,  2.],\n",
       "       [ 2.,  2.,  3., ...,  3.,  3.,  5.],\n",
       "       [ 2.,  3.,  2., ...,  2.,  3.,  4.],\n",
       "       ..., \n",
       "       [ 2.,  2.,  5., ...,  2.,  2.,  1.],\n",
       "       [ 2.,  2.,  2., ...,  2.,  2.,  2.],\n",
       "       [ 2.,  2.,  2., ...,  2.,  2.,  2.]])"
      ]
     },
     "execution_count": 33,
     "metadata": {},
     "output_type": "execute_result"
    }
   ],
   "source": [
    "samples"
   ]
  },
  {
   "cell_type": "code",
   "execution_count": 35,
   "metadata": {
    "collapsed": false
   },
   "outputs": [
    {
     "name": "stderr",
     "output_type": "stream",
     "text": [
      "/usr/local/lib/python3.5/dist-packages/skimage/io/_io.py:132: UserWarning: /home/yingtao/Desktop/annote3D/temp1.tif is a low contrast image\n",
      "  warn('%s is a low contrast image' % fname)\n"
     ]
    }
   ],
   "source": [
    "io.imsave('/home/yingtao/Desktop/annote3D/temp1.tif', samples[349].reshape(7,31,31).astype('int16'))\n"
   ]
  },
  {
   "cell_type": "code",
   "execution_count": 175,
   "metadata": {
    "collapsed": false
   },
   "outputs": [
    {
     "name": "stderr",
     "output_type": "stream",
     "text": [
      "/usr/local/lib/python3.5/dist-packages/skimage/io/_io.py:132: UserWarning: /home/yingtao/Desktop/temp.tif is a low contrast image\n",
      "  warn('%s is a low contrast image' % fname)\n"
     ]
    }
   ],
   "source": []
  },
  {
   "cell_type": "code",
   "execution_count": 85,
   "metadata": {
    "collapsed": false
   },
   "outputs": [],
   "source": [
    "def _dis(blob1, blob2):\n",
    "    dif = np.array([blob1[1]-blob2[1],  blob1[2]-blob2[2]])\n",
    "    dis = np.linalg.norm(dif)\n",
    "    return dis"
   ]
  },
  {
   "cell_type": "code",
   "execution_count": 17,
   "metadata": {
    "collapsed": false
   },
   "outputs": [],
   "source": [
    "blob_list = np.genfromtxt(\"/home/yingtao/Desktop/annote3D/dog_maxima\")"
   ]
  },
  {
   "cell_type": "code",
   "execution_count": 11,
   "metadata": {
    "collapsed": false
   },
   "outputs": [
    {
     "ename": "NameError",
     "evalue": "name 'janllsms' is not defined",
     "output_type": "error",
     "traceback": [
      "\u001b[0;31m---------------------------------------------------------------------------\u001b[0m",
      "\u001b[0;31mNameError\u001b[0m                                 Traceback (most recent call last)",
      "\u001b[0;32m<ipython-input-11-157449792c73>\u001b[0m in \u001b[0;36m<module>\u001b[0;34m()\u001b[0m\n\u001b[1;32m      5\u001b[0m \u001b[0;32mfrom\u001b[0m \u001b[0mscipy\u001b[0m\u001b[0;34m.\u001b[0m\u001b[0mndimage\u001b[0m\u001b[0;34m.\u001b[0m\u001b[0mfilters\u001b[0m \u001b[0;32mimport\u001b[0m \u001b[0mmedian_filter\u001b[0m\u001b[0;34m\u001b[0m\u001b[0m\n\u001b[1;32m      6\u001b[0m \u001b[0;32mfrom\u001b[0m \u001b[0mskimage\u001b[0m\u001b[0;34m.\u001b[0m\u001b[0mmorphology\u001b[0m \u001b[0;32mimport\u001b[0m \u001b[0mremove_small_objects\u001b[0m\u001b[0;34m\u001b[0m\u001b[0m\n\u001b[0;32m----> 7\u001b[0;31m \u001b[0mjanl\u001b[0m \u001b[0;34m=\u001b[0m \u001b[0mio\u001b[0m\u001b[0;34m.\u001b[0m\u001b[0mimread\u001b[0m\u001b[0;34m(\u001b[0m\u001b[0mjanllsms\u001b[0m\u001b[0;34m[\u001b[0m\u001b[0;36m0\u001b[0m\u001b[0;34m]\u001b[0m\u001b[0;34m)\u001b[0m\u001b[0;34m\u001b[0m\u001b[0m\n\u001b[0m\u001b[1;32m      8\u001b[0m \u001b[0mgreen\u001b[0m \u001b[0;34m=\u001b[0m \u001b[0mjanl\u001b[0m\u001b[0;34m[\u001b[0m\u001b[0;34m:\u001b[0m\u001b[0;34m,\u001b[0m\u001b[0;34m:\u001b[0m\u001b[0;34m,\u001b[0m\u001b[0;34m:\u001b[0m\u001b[0;34m,\u001b[0m\u001b[0;36m0\u001b[0m\u001b[0;34m]\u001b[0m\u001b[0;34m\u001b[0m\u001b[0m\n\u001b[1;32m      9\u001b[0m \u001b[0mred\u001b[0m \u001b[0;34m=\u001b[0m \u001b[0mjanl\u001b[0m\u001b[0;34m[\u001b[0m\u001b[0;34m:\u001b[0m\u001b[0;34m,\u001b[0m\u001b[0;34m:\u001b[0m\u001b[0;34m,\u001b[0m\u001b[0;34m:\u001b[0m\u001b[0;34m,\u001b[0m\u001b[0;36m1\u001b[0m\u001b[0;34m]\u001b[0m\u001b[0;34m\u001b[0m\u001b[0m\n",
      "\u001b[0;31mNameError\u001b[0m: name 'janllsms' is not defined"
     ]
    }
   ],
   "source": [
    "from skimage.filters import threshold_mean\n",
    "from sklearn.cluster import KMeans\n",
    "from scipy.ndimage.measurements import center_of_mass\n",
    "from sklearn.cluster import MiniBatchKMeans\n",
    "from scipy.ndimage.filters import median_filter\n",
    "from skimage.morphology import remove_small_objects\n",
    "janl = io.imread(janllsms[0])\n",
    "green = janl[:,:,:,0]\n",
    "red = janl[:,:,:,1]\n",
    "blue = janl[:,:,:,2]\n",
    "blue_CNS = np.empty(blue.shape)\n",
    "green_CNS = np.empty(blue.shape)\n",
    "CNS = np.zeros(blue.shape)\n",
    "for i,zslice in enumerate(red):\n",
    "    CNS_mask = zslice > threshold_mean(zslice)\n",
    "    blue_CNS[i] = CNS_mask * blue[i]\n",
    "    green_CNS[i] = CNS_mask * green[i]\n",
    "    CNS[i] = CNS_mask\n",
    "xcenter = center_of_mass(CNS)\n",
    "VNC = CNS[:,math.ceil(xcenter[1]):,math.ceil(xcenter[2]) - 300:math.ceil(xcenter[2]) + 300]\n",
    "VNC_blue = blue_CNS[:,math.ceil(xcenter[1]):,math.ceil(xcenter[2]) - 300:math.ceil(xcenter[2]) + 300]\n",
    "VNC_green = green_CNS[:,math.ceil(xcenter[1]):,math.ceil(xcenter[2]) - 300:math.ceil(xcenter[2]) + 300]\n",
    "kmeans = MiniBatchKMeans(n_clusters=4, batch_size=int(10e5), verbose=1).fit(VNC_blue.reshape(-1,1))\n",
    "center_values = kmeans.cluster_centers_\n",
    "sorted_center = np.argsort(center_values, 0)\n",
    "labeled = sorted_center[kmeans.labels_].reshape(VNC_blue.shape)\n",
    "#mask = median//2"
   ]
  },
  {
   "cell_type": "code",
   "execution_count": 36,
   "metadata": {
    "collapsed": true
   },
   "outputs": [],
   "source": [
    "from sklearn.model_selection import KFold"
   ]
  },
  {
   "cell_type": "code",
   "execution_count": 151,
   "metadata": {
    "collapsed": false
   },
   "outputs": [],
   "source": [
    "skf = StratifiedKFold()"
   ]
  },
  {
   "cell_type": "code",
   "execution_count": null,
   "metadata": {
    "collapsed": true
   },
   "outputs": [],
   "source": [
    "skf = StratifiedKFold"
   ]
  },
  {
   "cell_type": "code",
   "execution_count": 24,
   "metadata": {
    "collapsed": true
   },
   "outputs": [],
   "source": [
    "samples = np.ones([5,10])\n",
    "indices = np.array([1,1,0,0,0])"
   ]
  },
  {
   "cell_type": "code",
   "execution_count": 40,
   "metadata": {
    "collapsed": false
   },
   "outputs": [],
   "source": [
    "for a,b in skf.split(samples, labels):\n",
    "    train = a\n",
    "    test = b"
   ]
  },
  {
   "cell_type": "code",
   "execution_count": 41,
   "metadata": {
    "collapsed": false
   },
   "outputs": [
    {
     "data": {
      "text/plain": [
       "(array([  0,   1,   2,   3,   4,   5,   6,   7,   8,   9,  10,  11,  12,\n",
       "         13,  14,  15,  16,  17,  18,  19,  20,  21,  22,  23,  24,  25,\n",
       "         26,  27,  28,  29,  30,  31,  32,  33,  34,  35,  36,  37,  38,\n",
       "         39,  40,  41,  42,  43,  44,  45,  46,  47,  48,  49,  50,  51,\n",
       "         52,  53,  54,  55,  56,  57,  58,  59,  60,  61,  65,  66,  67,\n",
       "         70,  78,  79,  80,  81,  85,  87,  88,  90,  91, 100, 101, 106,\n",
       "        107, 108, 109, 110, 111, 112, 113, 114, 115, 116, 117, 118, 119,\n",
       "        120, 121, 122, 123, 124, 125, 126, 127, 132, 133, 135, 136, 137,\n",
       "        138, 140, 141, 142, 143, 144, 145, 146, 147, 148, 150, 151, 152,\n",
       "        153, 154, 155, 156, 157, 158, 159, 160, 161, 163, 164, 166, 167,\n",
       "        168, 169, 170, 171, 172, 173, 174, 175, 176, 177, 178, 179, 180,\n",
       "        181, 182, 183, 184, 185, 186, 187, 188, 189, 190, 191, 192, 193,\n",
       "        194, 195, 196, 198, 199, 200, 201, 202, 203, 204, 205, 206, 207,\n",
       "        208, 209, 210, 211, 212, 213, 214, 215, 216, 217, 218, 219, 220]),\n",
       " array([ 62,  63,  64,  68,  69,  71,  72,  73,  74,  75,  76,  77,  82,\n",
       "         83,  84,  86,  89,  92,  93,  94,  95,  96,  97,  98,  99, 102,\n",
       "        103, 104, 105, 128, 129, 130, 131, 134, 139, 149, 162, 165, 197,\n",
       "        221, 222, 223, 224, 225, 226, 227, 228, 229, 230, 231, 232, 233,\n",
       "        234, 235, 236, 237, 238, 239, 240, 241, 242, 243, 244, 245, 246,\n",
       "        247, 248, 249, 250, 251, 252, 253, 254, 255, 256, 257, 258, 259,\n",
       "        260, 261, 262, 263, 264, 265, 266, 267, 268, 269, 270, 271, 272,\n",
       "        273, 274, 275, 276, 277, 278, 279, 280, 281, 282, 283, 284, 285,\n",
       "        286, 287, 288, 289, 290, 291, 292, 293, 294, 295, 296, 297, 298,\n",
       "        299, 300, 301, 302, 303, 304, 305, 306, 307, 308, 309, 310, 311,\n",
       "        312, 313, 314, 315, 316, 317, 318, 319, 320, 321, 322, 323, 324,\n",
       "        325, 326, 327, 328, 329, 330, 331, 332, 333, 334, 335, 336, 337,\n",
       "        338, 339, 340, 341, 342, 343, 344, 345, 346, 347, 348, 349, 350,\n",
       "        351, 352, 353, 354, 355, 356, 357, 358, 359, 360, 361, 362, 363]))"
      ]
     },
     "execution_count": 41,
     "metadata": {},
     "output_type": "execute_result"
    }
   ],
   "source": [
    "train, test"
   ]
  },
  {
   "cell_type": "code",
   "execution_count": 152,
   "metadata": {
    "collapsed": false
   },
   "outputs": [],
   "source": [
    "from sklearn import svm\n",
    "for a,b in skf.split(samples, labels):\n",
    "    trainindex = a\n",
    "    testindex = b\n",
    "    clf = svm.SVC()\n",
    "    clf.fit(samples[trainindex[0:90]], np.array(labels)[trainindex[0:90]])\n",
    "    break"
   ]
  },
  {
   "cell_type": "code",
   "execution_count": 150,
   "metadata": {
    "collapsed": false
   },
   "outputs": [
    {
     "data": {
      "text/plain": [
       "array([1, 1, 1, 1, 1, 1, 1, 1, 1, 1, 1, 1, 1, 1, 1, 1, 1, 1, 1, 1, 1, 1, 1,\n",
       "       1, 1, 1, 1, 1, 1, 1, 1, 1, 1, 1, 1, 1, 1, 1, 1, 1, 1, 1, 1, 1, 1, 1,\n",
       "       1, 1, 1, 1, 1, 1, 1, 1, 1, 1, 1, 1, 1, 0, 0, 0, 0, 0, 0, 0, 0, 0, 0,\n",
       "       0, 0, 1, 0, 0, 1, 0, 0, 0, 0, 0, 0, 0, 0, 0, 0, 0, 0, 0, 0, 0, 0, 0,\n",
       "       0, 0, 0, 0, 0, 0, 0, 0, 0, 0, 0, 0, 0, 0, 1, 0, 0, 0, 0, 0, 0, 0, 0,\n",
       "       0, 0, 0, 0, 0, 0, 0, 0, 0, 0, 0, 0, 0, 0, 0, 0, 0, 0, 0, 0, 0, 0, 0,\n",
       "       0, 0, 0, 0, 1, 0, 0, 0, 0, 0, 0, 0, 0, 0, 0, 0, 0, 0, 0, 0, 0, 0, 0,\n",
       "       0, 0, 0, 0, 0, 0, 0, 1, 0, 1, 0, 0, 0, 0, 0, 0, 0, 0, 0, 0, 0, 0, 0,\n",
       "       0, 0, 0, 0, 0, 0, 0, 1, 0, 0, 0, 0, 0, 0, 0, 0, 0, 0, 0, 0, 0, 0, 0,\n",
       "       0, 0, 0, 0, 0, 0, 0, 0, 0, 0, 0, 0, 0, 0, 0, 0, 0, 0, 0, 0, 0, 0, 0,\n",
       "       0, 0, 0, 0, 0, 0, 0, 0, 0, 0, 0, 1, 0, 0, 0, 0, 0, 0, 0, 0, 0, 0, 0,\n",
       "       0, 0, 1, 0, 0, 1, 0, 0, 0, 0, 0, 0, 0, 0, 0, 0, 0, 0, 0, 0])"
      ]
     },
     "execution_count": 150,
     "metadata": {},
     "output_type": "execute_result"
    }
   ],
   "source": [
    "np.array(labels)[a]"
   ]
  },
  {
   "cell_type": "code",
   "execution_count": 102,
   "metadata": {
    "collapsed": false
   },
   "outputs": [],
   "source": [
    "newsample = np.reshape?"
   ]
  },
  {
   "cell_type": "code",
   "execution_count": 122,
   "metadata": {
    "collapsed": false
   },
   "outputs": [],
   "source": [
    "newsamples = samples.reshape(-1,7,31,31)"
   ]
  },
  {
   "cell_type": "code",
   "execution_count": 123,
   "metadata": {
    "collapsed": false
   },
   "outputs": [],
   "source": [
    "newsamples = newsamples[:,:,10:21,10:21]\n"
   ]
  },
  {
   "cell_type": "code",
   "execution_count": 124,
   "metadata": {
    "collapsed": false
   },
   "outputs": [
    {
     "data": {
      "text/plain": [
       "(364, 7, 11, 11)"
      ]
     },
     "execution_count": 124,
     "metadata": {},
     "output_type": "execute_result"
    }
   ],
   "source": [
    "newsamples.shape"
   ]
  },
  {
   "cell_type": "code",
   "execution_count": 125,
   "metadata": {
    "collapsed": true
   },
   "outputs": [],
   "source": [
    "newsamples = newsamples.reshape(364,-1)"
   ]
  },
  {
   "cell_type": "code",
   "execution_count": 126,
   "metadata": {
    "collapsed": false
   },
   "outputs": [
    {
     "data": {
      "text/plain": [
       "PCA(copy=True, iterated_power='auto', n_components=100, random_state=None,\n",
       "  svd_solver='auto', tol=0.0, whiten=False)"
      ]
     },
     "execution_count": 126,
     "metadata": {},
     "output_type": "execute_result"
    }
   ],
   "source": [
    "from sklearn.decomposition import PCA\n",
    "pca = PCA(n_components=100)\n",
    "pca.fit(np.swapaxes(newsamples,0,1))"
   ]
  },
  {
   "cell_type": "code",
   "execution_count": 189,
   "metadata": {
    "collapsed": false
   },
   "outputs": [],
   "source": [
    "temp = pca.components_"
   ]
  },
  {
   "cell_type": "code",
   "execution_count": 190,
   "metadata": {
    "collapsed": false
   },
   "outputs": [],
   "source": [
    "temp = np.swapaxes(temp,0,1)"
   ]
  },
  {
   "cell_type": "code",
   "execution_count": 191,
   "metadata": {
    "collapsed": false
   },
   "outputs": [
    {
     "data": {
      "text/plain": [
       "(364, 100)"
      ]
     },
     "execution_count": 191,
     "metadata": {},
     "output_type": "execute_result"
    }
   ],
   "source": [
    "temp.shape"
   ]
  },
  {
   "cell_type": "code",
   "execution_count": 170,
   "metadata": {
    "collapsed": false
   },
   "outputs": [],
   "source": [
    "clf = svm.SVC?"
   ]
  },
  {
   "cell_type": "code",
   "execution_count": 251,
   "metadata": {
    "collapsed": false
   },
   "outputs": [],
   "source": [
    "from sklearn.ensemble import RandomForestClassifier\n",
    "clf = RandomForestClassifier(max_depth=5, random_state=0)"
   ]
  },
  {
   "cell_type": "code",
   "execution_count": 215,
   "metadata": {
    "collapsed": false
   },
   "outputs": [],
   "source": [
    "for i in range(7):\n",
    "    figure(i+1)\n",
    "    imshow(samples[88].reshape(7,31,31)[i])"
   ]
  },
  {
   "cell_type": "code",
   "execution_count": 260,
   "metadata": {
    "collapsed": false
   },
   "outputs": [
    {
     "data": {
      "text/plain": [
       "RandomForestClassifier(bootstrap=True, class_weight=None, criterion='gini',\n",
       "            max_depth=5, max_features='auto', max_leaf_nodes=None,\n",
       "            min_impurity_split=1e-07, min_samples_leaf=1,\n",
       "            min_samples_split=2, min_weight_fraction_leaf=0.0,\n",
       "            n_estimators=10, n_jobs=1, oob_score=False, random_state=0,\n",
       "            verbose=0, warm_start=False)"
      ]
     },
     "execution_count": 260,
     "metadata": {},
     "output_type": "execute_result"
    }
   ],
   "source": [
    "clf.fit(samples[trainindex], np.array(labels)[trainindex])"
   ]
  },
  {
   "cell_type": "code",
   "execution_count": 262,
   "metadata": {
    "collapsed": false
   },
   "outputs": [
    {
     "data": {
      "text/plain": [
       "0.9853479853479854"
      ]
     },
     "execution_count": 262,
     "metadata": {},
     "output_type": "execute_result"
    }
   ],
   "source": [
    "clf.score(samples[trainindex], np.array(labels)[trainindex])"
   ]
  },
  {
   "cell_type": "code",
   "execution_count": 250,
   "metadata": {
    "collapsed": true
   },
   "outputs": [],
   "source": [
    "from sklearn.model_selection import cross_val_score"
   ]
  },
  {
   "cell_type": "code",
   "execution_count": 255,
   "metadata": {
    "collapsed": false
   },
   "outputs": [
    {
     "data": {
      "text/plain": [
       "(364, 6727)"
      ]
     },
     "execution_count": 255,
     "metadata": {},
     "output_type": "execute_result"
    }
   ],
   "source": [
    "samples.shape"
   ]
  },
  {
   "cell_type": "code",
   "execution_count": 263,
   "metadata": {
    "collapsed": false,
    "scrolled": true
   },
   "outputs": [],
   "source": [
    "scores = cross_val_score(clf, samples, np.array(labels), cv = 5)"
   ]
  },
  {
   "cell_type": "code",
   "execution_count": 264,
   "metadata": {
    "collapsed": false
   },
   "outputs": [
    {
     "data": {
      "text/plain": [
       "array([ 0.87837838,  0.83783784,  0.90277778,  0.91666667,  0.81944444])"
      ]
     },
     "execution_count": 264,
     "metadata": {},
     "output_type": "execute_result"
    }
   ],
   "source": [
    "scores"
   ]
  },
  {
   "cell_type": "code",
   "execution_count": 229,
   "metadata": {
    "collapsed": false
   },
   "outputs": [
    {
     "name": "stdout",
     "output_type": "stream",
     "text": [
      "false neg\n",
      "false neg\n",
      "false neg\n",
      "false neg\n",
      "false neg\n",
      "false neg\n",
      "false neg\n",
      "false pos\n",
      "false pos\n",
      "false pos\n",
      "false pos\n",
      "false pos\n",
      "false pos\n",
      "false pos\n",
      "false pos\n",
      "false pos\n",
      "false pos\n",
      "false pos\n",
      "false pos\n",
      "false pos\n"
     ]
    }
   ],
   "source": [
    "false_neg =0\n",
    "false_pos =0\n",
    "pos=0\n",
    "falsep = []\n",
    "falsen = []\n",
    "for i,(a,b) in enumerate(zip(temp1, np.array(labels)[testindex])):\n",
    "    if a != b and a == 0:\n",
    "        print('false neg')\n",
    "        false_neg += 1\n",
    "        falsen.append(testindex[i])\n",
    "    if b == 1:\n",
    "        pos += 1 \n",
    "    if a != b and a == 1:\n",
    "        print('false pos')\n",
    "        false_pos += 1\n",
    "        falsep.append(testindex[i])\n",
    "    \n",
    "        "
   ]
  },
  {
   "cell_type": "code",
   "execution_count": 242,
   "metadata": {
    "collapsed": false
   },
   "outputs": [
    {
     "data": {
      "text/plain": [
       "[11, 12, 16, 19, 26, 27, 29]"
      ]
     },
     "execution_count": 242,
     "metadata": {},
     "output_type": "execute_result"
    }
   ],
   "source": [
    "falsep"
   ]
  },
  {
   "cell_type": "code",
   "execution_count": 231,
   "metadata": {
    "collapsed": false
   },
   "outputs": [
    {
     "data": {
      "text/plain": [
       "0"
      ]
     },
     "execution_count": 231,
     "metadata": {},
     "output_type": "execute_result"
    }
   ],
   "source": [
    "labels[42]"
   ]
  },
  {
   "cell_type": "code",
   "execution_count": 8,
   "metadata": {
    "collapsed": false
   },
   "outputs": [
    {
     "data": {
      "text/plain": [
       "-1"
      ]
     },
     "execution_count": 8,
     "metadata": {},
     "output_type": "execute_result"
    }
   ],
   "source": [
    "\n",
    "#from skimage.filters import threshold_mean\n",
    "#threshold_mean(stack1)\n",
    "#mask1 = stack1 > threshold_mean(stack1)\n",
    "#stack_masked1 = mask1 * stack1.astype(int)\n",
    "#mask2 = stack_masked1 > threshold_mean(stack_masked1)*np.prod(stack1.shape)/np.count_nonzero(stack_masked1)\n",
    "#stack_masked2 = mask2 * stack_masked1.astype('int')"
   ]
  },
  {
   "cell_type": "code",
   "execution_count": null,
   "metadata": {
    "collapsed": true
   },
   "outputs": [],
   "source": [
    "#terminal image of 48572\n",
    "#from skimage.transform import resize\n",
    "#new_testimage = io.imread(\"/home/liu/Desktop/cell=annotation=3D/janelia_gal4/48571.lsm\")\n",
    "#stack1 = new_testimage[:,:,:,0]\n",
    "#terminal = stack1[:,1000:1400,400:620]\n",
    "#terminal_resized = resize(terminal, np.array(terminal.shape) * [4,1,1], mode = 'edge', preserve_range=bool)\n",
    "#io.imsave('/home/liu/Desktop/resized.tif', terminal_resized.astype('int16'))\n",
    "#io.imsave('/home/liu/Desktop/cell=annotation=3D/original_images/origin800.tif', terminal.astype('int16'))\n",
    "#io.imsave('/home/liu/Desktop/cell=annotation=3D/original_images/origin1029.tif', stack1.astype('int16'))"
   ]
  },
  {
   "cell_type": "code",
   "execution_count": null,
   "metadata": {
    "collapsed": true
   },
   "outputs": [],
   "source": [
    "import cv2\n",
    "# Read image\n",
    "im = io.imread(\"/home/yingtao/Desktop/cell=annotation=3D/original_images/1029.tif\")\n",
    "\n",
    "im = im.astype('uint8')\n",
    "# Set up the detector with default parameters.\n",
    "detector = cv2.SimpleBlobDetector_create()\n",
    "params = cv2.SimpleBlobDetector_Params()\n",
    "\n",
    "\n",
    "params.minDistBetweenBlobs = 10\n",
    "params.filterByColor =  True\n",
    "params.blobColor = 13\n",
    "params.filterByCircularity = False;\n",
    "params.filterByConvexity = False;\n",
    "params.filterByInertia = False;\n",
    "\n",
    "params.filterByArea = True\n",
    "params.minArea = 1\n",
    "params.maxArea = 100000\n",
    "\n",
    "# Filter by Convexity\n",
    "params.filterByConvexity = False\n",
    "#params.minConvexity = 0.87\n",
    "\t \n",
    "# Filter by Inertia\n",
    "params.filterByInertia = False\n",
    "params.minInertiaRatio = 0.8\n",
    "\n",
    "# Detect blobs.\n",
    "detector = cv2.SimpleBlobDetector_create(params)\n",
    "keypoints = detector.detect(im[16])"
   ]
  }
 ],
 "metadata": {
  "kernelspec": {
   "display_name": "Python 3",
   "language": "python",
   "name": "python3"
  },
  "language_info": {
   "codemirror_mode": {
    "name": "ipython",
    "version": 3
   },
   "file_extension": ".py",
   "mimetype": "text/x-python",
   "name": "python",
   "nbconvert_exporter": "python",
   "pygments_lexer": "ipython3",
   "version": "3.5.2"
  }
 },
 "nbformat": 4,
 "nbformat_minor": 2
}
