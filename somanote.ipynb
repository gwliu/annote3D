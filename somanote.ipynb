{
 "cells": [
  {
   "cell_type": "code",
   "execution_count": 1,
   "metadata": {
    "collapsed": true
   },
   "outputs": [],
   "source": [
    "import numpy as np\n",
    "from math import log\n",
    "import itertools\n",
    "from skimage.feature import peak_local_max \n",
    "from scipy import ndimage\n",
    "import skimage.io as io\n",
    "from skimage import filters\n",
    "import itertools as itt\n",
    "import preprocessor\n",
    "from math import log\n",
    "from os import listdir\n",
    "import subprocess\n",
    "from os.path import isfile, join\n",
    "import math"
   ]
  },
  {
   "cell_type": "code",
   "execution_count": null,
   "metadata": {
    "collapsed": false
   },
   "outputs": [],
   "source": [
    "\"\"\"\n",
    "Detect somata in janelia images\n",
    "\n",
    "\"\"\""
   ]
  },
  {
   "cell_type": "code",
   "execution_count": null,
   "metadata": {
    "collapsed": false
   },
   "outputs": [],
   "source": [
    "outpath = '/home/yingtao/Desktop/annote3D/'\n",
    "mypath = '/home/yingtao/Desktop/annote3D/'\n",
    "desktop = '/home/yingtao/Desktop/'"
   ]
  },
  {
   "cell_type": "code",
   "execution_count": null,
   "metadata": {
    "collapsed": true
   },
   "outputs": [],
   "source": [
    "##old fast function to prune skimage detected result\n",
    "def _prune_fast(blobs, overlap, ratio):\n",
    "    newblobs = [p for i, p in enumerate(blobs) if all(_distance(k, p, ratio)>overlap for k in blobs[i+1:])]\n",
    "    return newblobs"
   ]
  },
  {
   "cell_type": "code",
   "execution_count": null,
   "metadata": {
    "collapsed": true
   },
   "outputs": [],
   "source": [
    "##old functions to prune skimage detected result\n",
    "#Prune close points\n",
    "def _distance(blob1, blob2, ratio):\n",
    "    dif = np.array([(blob1[0]-blob2[0])*ratio, blob1[1]-blob2[1],  blob1[2]-blob2[2]])\n",
    "    dis = np.linalg.norm(dif)\n",
    "    return dis\n",
    "def _prune_blobs(blobs, overlap, ratio):\n",
    "    for blob1, blob2 in itt.combinations(blobs, 2):\n",
    "        if _distance(blob1, blob2, ratio) < overlap:\n",
    "            if blob1[3] > blob2[3]:\n",
    "                blob2[3] = 0\n",
    "            else:\n",
    "                blob1[3] = 0\n",
    "    return blobs"
   ]
  },
  {
   "cell_type": "code",
   "execution_count": 2,
   "metadata": {
    "collapsed": false
   },
   "outputs": [],
   "source": [
    "def getboxslice(image,center,xd,yd):\n",
    "    center = center.astype('int')\n",
    "    try:\n",
    "        temp = image[center[0] - 1,\n",
    "                     center[2]-xd//2:center[2]+xd//2+1, \n",
    "                     center[1]-yd//2:center[1]+yd//2+1,\n",
    "                     ]\n",
    "        if temp.size == xd*yd:\n",
    "            return temp\n",
    "        else:\n",
    "            return 0 \n",
    "    except IndexError:\n",
    "        return 0\n",
    "def _discenter(x,y,xd,yd):\n",
    "    dis = (x - xd//2) ** 2 / (xd//2) ** 2  + (y - yd//2) ** 2 / (yd//2) ** 2\n",
    "    if  0.2 < dis < 0.8:\n",
    "        return 1\n",
    "    else:\n",
    "        return 0\n",
    "#return a ellipse sphere kernal\n",
    "def addvalue(dog_list, image):\n",
    "    xd, yd = 21, 21\n",
    "    temp = [_discenter(x, y, xd, yd) for x in range(xd) for y in range(yd)]\n",
    "    coin_kernel = np.array(temp).reshape(xd,yd)\n",
    "    pixelvalue = np.array([np.sum(coin_kernel * getboxslice(image, i, xd, yd)) for i in dog_list])\n",
    "    return np.concatenate([dog_list,pixelvalue.reshape(-1,1)],axis=1)\n",
    "def _distance(blob1, blob2):\n",
    "    dif = np.array([blob1[1]-blob2[1],  blob1[2]-blob2[2]])\n",
    "    dis = np.linalg.norm(dif)\n",
    "    return dis\n",
    "def _prune_blobs(blobs, overlap):\n",
    "    for i, blob1 in enumerate(blobs):\n",
    "        k = blob1[0]\n",
    "        for blob2 in blobs[i:,]:\n",
    "            if blob2[0] - k > 2.5:\n",
    "                break\n",
    "            if _distance(blob1, blob2) < overlap and 0 < abs(blob1[0] - blob2[0]) < 3:\n",
    "                if blob1[3] > blob2[3]:\n",
    "                    blob2[3] = 0\n",
    "                else:\n",
    "                    blob1[3] = 0\n",
    "    blobs = np.array([blob for blob in blobs if blob[3] != 0])\n",
    "    return blobs"
   ]
  },
  {
   "cell_type": "code",
   "execution_count": null,
   "metadata": {
    "collapsed": true
   },
   "outputs": [],
   "source": [
    "#calculate dog, detect peaks\n",
    "def dog_maxima(terminal, sigma, zx_ratio=4, blur_sigma=0.3, size = 8, prune_dis = 2):\n",
    "    s = sigma\n",
    "    gaussian_images0 = ndimage.gaussian_filter(terminal, (s/4, s,s))\n",
    "    gaussian_images1 = ndimage.gaussian_filter(terminal, ((s*1.3)/4, s*1.3,s*1.3))\n",
    "    dog_image = np.abs((gaussian_images1* 1.3 ** 3).astype('int16') - gaussian_images0.astype(\"int16\"))\n",
    "    dog_list = getmaxima(dog_image)\n",
    "    \n",
    "    #blurred = ndimage.filters.gaussian_filter(dog_image.astype(\"int16\"), sigma=(blur_sigma/zx_ratio, blur_sigma, blur_sigma))\n",
    "    #local_maxima = peak_local_max(dog_image, min_distance=5, threshold_rel=0.05, exclude_border=True, num_peaks_per_label==1000)#, threshold_abs=s, footprint=np.ones([size//zx_ratio + 1, size, size]))\n",
    "    #print('a')\n",
    "    #dog_list = [1,1]\n",
    "    #dog_list = _prune_fast(local_maxima, prune_dis, zx_ratio)\n",
    "    return dog_list, np.swapaxes(dog_image,1,2) #dog_list_pruned, dog_images, blurred"
   ]
  },
  {
   "cell_type": "code",
   "execution_count": null,
   "metadata": {
    "collapsed": true
   },
   "outputs": [],
   "source": [
    "#detect peaks by imagej function\n",
    "\n",
    "def getfiles(filepath):\n",
    "    files = [join(filepath, f) for f in listdir(filepath) if isfile(join(filepath, f))]\n",
    "    files.sort()\n",
    "    return files\n",
    "def getlsmfiles(filepath):\n",
    "    files = [join(filepath, f) for f in listdir(filepath) if f[-3:] == 'lsm']\n",
    "    files.sort()\n",
    "    return files\n",
    "def getmaxima(dog_image):\n",
    "    io.imsave(outpath +'original_images/1106.tif', dog_image.astype('int16'))\n",
    "    p = subprocess.Popen(['xvfb-run','-a', desktop + \"Fiji.app/./ImageJ-linux64\", \"-macro\",\n",
    "                          mypath + \"macros/findmaxima.ijm\"])\n",
    "    p.wait()\n",
    "    onlyfiles = getfiles(outpath + \"maximafile\")\n",
    "    maxima_data = np.empty([0,3])\n",
    "    for i, files in enumerate(onlyfiles):\n",
    "        temp = np.genfromtxt(files, delimiter=',')\n",
    "        try:\n",
    "            temp[:, 0] = i + 1\n",
    "        except IndexError:\n",
    "            continue           \n",
    "        maxima_data = np.append(maxima_data, temp, axis = 0)\n",
    "    dog_list = np.array([i for i in maxima_data if not math.isnan(i[1])])\n",
    "    p = subprocess.Popen(\"rm \"+ outpath + \"maximafile/*\", shell = True)\n",
    "    #order of coordinate z,x,y\n",
    "    return dog_list"
   ]
  },
  {
   "cell_type": "code",
   "execution_count": null,
   "metadata": {
    "collapsed": false
   },
   "outputs": [],
   "source": [
    "#prepare sample\n",
    "def samplefromindex(dog_list, positive_labels, image, xysize, sample_size, xz_ratio):\n",
    "    samples = np.empty([0, sample_size])\n",
    "    labels = []\n",
    "    for i, coord in enumerate(dog_list):\n",
    "        coord = coord.astype(int)\n",
    "        if coord[0] < xysize//xz_ratio:\n",
    "            coord[0] = xysize//xz_ratio\n",
    "        elif coord[0] > image.shape[0] - xysize//xz_ratio - 0.5:\n",
    "            coord[0] = image.shape[0] - xysize//xz_ratio - 1\n",
    "        if coord[1] < xysize + 0.5:\n",
    "            coord[1] = xysize\n",
    "        elif coord[1] > image.shape[2] - xysize - 0.5:\n",
    "            coord[1] = image.shape[2] - xysize - 1\n",
    "        if coord[2]< xysize + 0.5:\n",
    "            coord[2] = xysize\n",
    "        elif coord[2] > image.shape[1] - xysize - 0.5:\n",
    "            coord[2] = image.shape[1] - xysize - 1\n",
    "        coord_slice = np.index_exp[coord[0]-xysize//xz_ratio:coord[0]+xysize//xz_ratio+1, \n",
    "                                      coord[2]-xysize:coord[2]+xysize+1,  coord[1]-xysize:coord[1]+xysize+1]\n",
    "        temp = image[coord_slice].flatten()\n",
    "        if temp.shape[0] == samples.shape[1]:\n",
    "            temp = temp.reshape(1,-1)\n",
    "            samples = np.append(samples, temp, axis=0)\n",
    "        else:\n",
    "            print(i)\n",
    "            continue\n",
    "        if i in positive_labels:\n",
    "            labels.append(1)\n",
    "        else:\n",
    "            labels.append(0)\n",
    "    return samples, labels"
   ]
  },
  {
   "cell_type": "code",
   "execution_count": null,
   "metadata": {
    "collapsed": false
   },
   "outputs": [],
   "source": [
    "-"
   ]
  },
  {
   "cell_type": "code",
   "execution_count": null,
   "metadata": {
    "collapsed": false
   },
   "outputs": [],
   "source": []
  },
  {
   "cell_type": "code",
   "execution_count": null,
   "metadata": {
    "collapsed": false,
    "scrolled": true
   },
   "outputs": [],
   "source": [
    "temp1, temp2 = batch_test()"
   ]
  },
  {
   "cell_type": "code",
   "execution_count": null,
   "metadata": {
    "collapsed": true
   },
   "outputs": [],
   "source": []
  },
  {
   "cell_type": "code",
   "execution_count": null,
   "metadata": {
    "collapsed": false
   },
   "outputs": [],
   "source": [
    "#create labelled images. Image and labels is shown in imagej\n",
    "labels = []\n",
    "plabels_indiv = []\n",
    "samples_indiv = []\n",
    "sample_xysize = 15\n",
    "xz_ratio = 4\n",
    "sample_size = (sample_xysize//xz_ratio * 2 + 1)*(sample_xysize*2 + 1)**2\n",
    "samples = np.empty([0, sample_size])\n",
    "janl_lsms = getlsmfiles(path + \"janelia_gal4\")\n",
    "\n",
    "for i, janl_lsm in enumerate(janl_lsms):\n",
    "    if i == 0:\n",
    "        print('next')\n",
    "        continue\n",
    "    image, origin_image = preprocessor.prepro(janl_lsm)\n",
    "    dog_list, dog_image = dog_maxima(image, 2, size =7)\n",
    "    dog_list = addvalue(dog_list, origin_image)\n",
    "    dog_list = _prune_blobs(dog_list, 10)\n",
    "    np.savetxt(outpath + 'dog_maxima', dog_list)\n",
    "    io.imsave(outpath + 'origin.tif', origin_image.astype(\"int16\"))\n",
    "    p = subprocess.Popen([desktop + \"Fiji.app/./ImageJ-linux64\", \"-macro\",\n",
    "                      mypath + \"macros/showcirc.ijm\"])\n",
    "    for temp in dog_list:\n",
    "        s = input(\"What's the index of circled neuron? \")\n",
    "        if s == 'e':\n",
    "            print('next image')\n",
    "            samples_indiv, labels_indiv = samplefromindex(dog_list, plabels_indiv, \n",
    "                                                                      origin_image, sample_xysize)\n",
    "            samples = np.append(samples, samples_indiv, axis = 0)\n",
    "            labels.extend(labels_indiv)\n",
    "            plabels_indiv =[]\n",
    "            break\n",
    "        if s == 'd':\n",
    "            print('deleteone')\n",
    "            plabels_indiv.pop()\n",
    "        if s == 'n':\n",
    "            print('neglect it')\n",
    "            break\n",
    "        try:\n",
    "            plabels_indiv.append(int(s))\n",
    "        except ValueError:\n",
    "            print('do it again!')\n",
    "        print(\"neuron + \" +s+\"\")\n",
    "    np.savetxt(outpath + 'labeled_samples_file/' + str(i) + 'samples.txt', samples_indiv)\n",
    "    np.savetxt(outpath + 'labeled_samples_file/' + str(i) + 'labels.txt', labels_indiv)\n",
    "    "
   ]
  },
  {
   "cell_type": "code",
   "execution_count": null,
   "metadata": {
    "collapsed": false
   },
   "outputs": [],
   "source": [
    "#divide learning and test samples\n",
    "from sklearn.model_selection import StratifiedKFold\n",
    "skf  = StratifiedKFold(n_splits=3)\n",
    "for a,b in skf.split(samples, labels):\n",
    "    trainindex = a\n",
    "    testindex = b\n",
    "    break"
   ]
  },
  {
   "cell_type": "code",
   "execution_count": null,
   "metadata": {
    "collapsed": true
   },
   "outputs": [],
   "source": [
    "skf  = StratifiedKFold"
   ]
  },
  {
   "cell_type": "code",
   "execution_count": null,
   "metadata": {
    "collapsed": false
   },
   "outputs": [],
   "source": [
    "#prepare randomforest classifier\n",
    "from sklearn.ensemble import RandomForestClassifier\n",
    "clf = RandomForestClassifier(max_depth=5, random_state=0, class_weight = 'balanced')"
   ]
  },
  {
   "cell_type": "code",
   "execution_count": null,
   "metadata": {
    "collapsed": false
   },
   "outputs": [],
   "source": [
    "#learning\n",
    "clf.fit(samples[trainindex], np.array(labels)[trainindex])"
   ]
  },
  {
   "cell_type": "code",
   "execution_count": null,
   "metadata": {
    "collapsed": false
   },
   "outputs": [],
   "source": [
    "#score\n",
    "clf.score(samples[trainindex], np.array(labels)[trainindex])"
   ]
  },
  {
   "cell_type": "code",
   "execution_count": null,
   "metadata": {
    "collapsed": false,
    "scrolled": true
   },
   "outputs": [],
   "source": [
    "#score\n",
    "scores = cross_val_score(clf, samples, np.array(labels), cv = 5)"
   ]
  },
  {
   "cell_type": "code",
   "execution_count": 6,
   "metadata": {
    "collapsed": false
   },
   "outputs": [],
   "source": [
    "import numpy as np\n",
    "from math import log\n",
    "import itertools\n",
    "from skimage.feature import peak_local_max \n",
    "from scipy import ndimage\n",
    "import skimage.io as io\n",
    "from skimage import filters\n",
    "import itertools as itt\n",
    "import preprocessor\n",
    "from math import log\n",
    "from os import listdir\n",
    "import subprocess\n",
    "from os.path import isfile, join\n",
    "import math\n",
    "\n",
    "\n",
    "\"\"\"\n",
    "Detect somata in janelia images\n",
    "\n",
    "\"\"\"\n",
    "\n",
    "outputpath = '/home/yingtao/Desktop/annote3D/'\n",
    "mypath = '/home/yingtao/Desktop/annote3D/'\n",
    "desktop = '/home/yingtao/Desktop/'\n",
    "\n",
    "\n",
    "##old fast function to prune skimage detected result\n",
    "def _prune_fast(blobs, overlap, ratio):\n",
    "    newblobs = [p for i, p in enumerate(blobs) if all(_distance(k, p, ratio)>overlap for k in blobs[i+1:])]\n",
    "    return newblobs\n",
    "\n",
    "\n",
    "\n",
    "##old functions to prune skimage detected result\n",
    "#Prune close points\n",
    "def _distance(blob1, blob2, ratio):\n",
    "    dif = np.array([(blob1[0]-blob2[0])*ratio, blob1[1]-blob2[1],  blob1[2]-blob2[2]])\n",
    "    dis = np.linalg.norm(dif)\n",
    "    return dis\n",
    "def _prune_blobs(blobs, overlap, ratio):\n",
    "    for blob1, blob2 in itt.combinations(blobs, 2):\n",
    "        if _distance(blob1, blob2, ratio) < overlap:\n",
    "            if blob1[3] > blob2[3]:\n",
    "                blob2[3] = 0\n",
    "            else:\n",
    "                blob1[3] = 0\n",
    "    return blobs\n",
    "\n",
    "def getboxslice(image,center,xd,yd):\n",
    "    center = center.astype('int')\n",
    "    try:\n",
    "        temp = image[center[0] - 1,\n",
    "                     center[2]-xd//2:center[2]+xd//2+1, \n",
    "                     center[1]-yd//2:center[1]+yd//2+1,\n",
    "                     ]\n",
    "        if temp.size == xd*yd:\n",
    "            return temp\n",
    "        else:\n",
    "            return 0 \n",
    "    except IndexError:\n",
    "        return 0\n",
    "def _discenter(x,y,xd,yd):\n",
    "    dis = (x - xd//2) ** 2 / (xd//2) ** 2  + (y - yd//2) ** 2 / (yd//2) ** 2\n",
    "    if  0.2 < dis < 0.8:\n",
    "        return 1\n",
    "    else:\n",
    "        return 0\n",
    "#return a ellipse sphere kernal\n",
    "def addvalue(dog_list, image):\n",
    "    xd, yd = 21, 21\n",
    "    temp = [_discenter(x, y, xd, yd) for x in range(xd) for y in range(yd)]\n",
    "    coin_kernel = np.array(temp).reshape(xd,yd)\n",
    "    pixelvalue = np.array([np.sum(coin_kernel * getboxslice(image, i, xd, yd)) for i in dog_list])\n",
    "    return np.concatenate([dog_list,pixelvalue.reshape(-1,1)],axis=1)\n",
    "def _distance(blob1, blob2):\n",
    "    dif = np.array([blob1[1]-blob2[1],  blob1[2]-blob2[2]])\n",
    "    dis = np.linalg.norm(dif)\n",
    "    return dis\n",
    "def _prune_blobs(blobs, overlap):\n",
    "    for i, blob1 in enumerate(blobs):\n",
    "        k = blob1[0]\n",
    "        for blob2 in blobs[i:,]:\n",
    "            if blob2[0] - k > 2.5:\n",
    "                break\n",
    "            if _distance(blob1, blob2) < overlap and 0 < abs(blob1[0] - blob2[0]) < 3:\n",
    "                if blob1[3] > blob2[3]:\n",
    "                    blob2[3] = 0\n",
    "                else:\n",
    "                    blob1[3] = 0\n",
    "    blobs = np.array([blob for blob in blobs if blob[3] != 0])\n",
    "    return blobs\n",
    "\n",
    "\n",
    "#calculate dog, detect peaks\n",
    "def dog_maxima(terminal, sigma, zx_ratio=4, blur_sigma=0.3, prune_dis = 2):\n",
    "    s = sigma\n",
    "    gaussian_images0 = ndimage.gaussian_filter(terminal, (s/4, s,s))\n",
    "    gaussian_images1 = ndimage.gaussian_filter(terminal, ((s*1.3)/4, s*1.3,s*1.3))\n",
    "    dog_image = np.abs((gaussian_images1* 1.3 ** 3).astype('int16') - gaussian_images0.astype(\"int16\"))\n",
    "    dog_list = getmaxima(dog_image)\n",
    "    \n",
    "    #blurred = ndimage.filters.gaussian_filter(dog_image.astype(\"int16\"), sigma=(blur_sigma/zx_ratio, blur_sigma, blur_sigma))\n",
    "    #local_maxima = peak_local_max(dog_image, min_distance=5, threshold_rel=0.05, exclude_border=True, num_peaks_per_label==1000)#, threshold_abs=s, footprint=np.ones([size//zx_ratio + 1, size, size]))\n",
    "    #print('a')\n",
    "    #dog_list = [1,1]\n",
    "    #dog_list = _prune_fast(local_maxima, prune_dis, zx_ratio)\n",
    "    return dog_list, np.swapaxes(dog_image,1,2) #dog_list_pruned, dog_images, blurred\n",
    "\n",
    "\n",
    "#detect peaks by imagej function\n",
    "\n",
    "def getfiles(filepath):\n",
    "    files = [join(filepath, f) for f in listdir(filepath) if isfile(join(filepath, f))]\n",
    "    files.sort()\n",
    "    return files\n",
    "def gettiffiles(filepath):\n",
    "    files = [join(filepath, f) for f in listdir(filepath) if f[-3:] == 'tif']\n",
    "    files.sort()\n",
    "    return files\n",
    "def getmaxima(dog_image):\n",
    "    io.imsave(outputpath +'tmp/dog.tif', dog_image.astype('int16'))\n",
    "    p = subprocess.Popen(['xvfb-run','-a', desktop + \"Fiji.app/./ImageJ-linux64\", \"-macro\",\n",
    "                          mypath + \"macros/findmaxima.ijm\"])\n",
    "    p.wait()\n",
    "    onlyfiles = getfiles(outputpath +  \"tmp/maximafiles\")\n",
    "    maxima_data = np.empty([0,3])\n",
    "    for i, files in enumerate(onlyfiles):\n",
    "        temp = np.genfromtxt(files, delimiter=',')\n",
    "        try:\n",
    "            temp[:, 0] = i + 1\n",
    "        except IndexError:\n",
    "            continue           \n",
    "        maxima_data = np.append(maxima_data, temp, axis = 0)\n",
    "    dog_list = np.array([i for i in maxima_data if not math.isnan(i[1])])\n",
    "    p = subprocess.Popen(\"rm \"+ outputpath + \"tmp/maximafiles/*\", shell = True)\n",
    "    #order of coordinate z,x,y\n",
    "    return dog_list\n",
    "\n",
    "#prepare sample\n",
    "def samplefromindex(dog_list, positive_labels, image, xysize, sample_size, xz_ratio):\n",
    "    samples = np.empty([0, sample_size])\n",
    "    labels = []\n",
    "    for i, coord in enumerate(dog_list):\n",
    "        coord = coord.astype(int)\n",
    "        if coord[0] < xysize//xz_ratio:\n",
    "            coord[0] = xysize//xz_ratio\n",
    "        elif coord[0] > image.shape[0] - xysize//xz_ratio - 0.5:\n",
    "            coord[0] = image.shape[0] - xysize//xz_ratio - 1\n",
    "        if coord[1] < xysize + 0.5:\n",
    "            coord[1] = xysize\n",
    "        elif coord[1] > image.shape[2] - xysize - 0.5:\n",
    "            coord[1] = image.shape[2] - xysize - 1\n",
    "        if coord[2]< xysize + 0.5:\n",
    "            coord[2] = xysize\n",
    "        elif coord[2] > image.shape[1] - xysize - 0.5:\n",
    "            coord[2] = image.shape[1] - xysize - 1\n",
    "        coord_slice = np.index_exp[coord[0]-xysize//xz_ratio:coord[0]+xysize//xz_ratio+1, \n",
    "                                      coord[2]-xysize:coord[2]+xysize+1,  coord[1]-xysize:coord[1]+xysize+1]\n",
    "        temp = image[coord_slice].flatten()\n",
    "        if temp.shape[0] == samples.shape[1]:\n",
    "            temp = temp.reshape(1,-1)\n",
    "            samples = np.append(samples, temp, axis=0)\n",
    "        else:\n",
    "            print(i)\n",
    "            continue\n",
    "        if i in positive_labels:\n",
    "            labels.append(1)\n",
    "        else:\n",
    "            labels.append(0)\n",
    "    return samples, labels\n",
    "\n",
    "\n",
    "\n",
    "#batch process\n",
    "def batch_label(inputpath = 'default path'):\n",
    "    if inputpath == 'default path':\n",
    "        inputpath = '/home/yingtao/Desktop/annote3D/' + \"janelia_gal4\"\n",
    "    print(inputpath)\n",
    "    labels = []\n",
    "    plabels_indiv = []\n",
    "    samples_indiv = []\n",
    "    sample_xysize = 15\n",
    "    xz_ratio = 4\n",
    "    sample_size = (sample_xysize//xz_ratio * 2 + 1)*(sample_xysize*2 + 1)**2\n",
    "    samples = np.empty([0, sample_size])\n",
    "    janl_lsms = gettiffiles(inputpath)\n",
    "    stopflag = 0\n",
    "    for i, janl_lsm in enumerate(janl_lsms):\n",
    "        if stopflag == 1:\n",
    "            break\n",
    "        print(janl_lsm)\n",
    "        image, origin_image = preprocessor.prepro(janl_lsm)\n",
    "        dog_list, dog_image = dog_maxima(image, sigma = 2.5)\n",
    "        dog_list = addvalue(dog_list, origin_image)\n",
    "        dog_list = _prune_blobs(dog_list, 10)\n",
    "        np.savetxt(outputpath + 'tmp/dog_maxima', dog_list)\n",
    "        io.imsave(outputpath + 'tmp/origin.tif', origin_image.astype(\"uint8\"))\n",
    "        p = subprocess.Popen([desktop + \"Fiji.app/./ImageJ-linux64\", \"-macro\",\n",
    "                          mypath + \"macros/showcirc.ijm\"])\n",
    "        for temp in dog_list:\n",
    "            s = input(\"What's the index of circled neuron? \")\n",
    "            if s == 'e':\n",
    "                print('next image')\n",
    "                samples_indiv, labels_indiv = samplefromindex(dog_list, plabels_indiv, \n",
    "                                                                          origin_image, sample_xysize, sample_size, xz_ratio)\n",
    "                samples = np.append(samples, samples_indiv, axis = 0)\n",
    "                labels.extend(labels_indiv)\n",
    "                plabels_indiv =[]\n",
    "                np.savetxt(outputpath + 'tmp/' + str(i) + 'sample', samples_indiv)\n",
    "                np.savetxt(outputpath + 'tmp/' + str(i) + 'labels', labels_indiv)\n",
    "                break\n",
    "            if s == 'd':\n",
    "                print('deleteone')\n",
    "                plabels_indiv.pop()\n",
    "            if s == 'n':\n",
    "                print('neglect it')\n",
    "                break\n",
    "            if s == 'stop':\n",
    "                print('next image')\n",
    "                samples_indiv, labels_indiv = samplefromindex(dog_list, plabels_indiv, \n",
    "                                                                          origin_image, sample_xysize, sample_size, xz_ratio)\n",
    "                samples = np.append(samples, samples_indiv, axis = 0)\n",
    "                labels.extend(labels_indiv)\n",
    "                plabels_indiv =[]\n",
    "                stopflag = 1\n",
    "                np.savetxt(outputpath + 'tmp/' + str(i) + 'samples', samples_indiv)\n",
    "                np.savetxt(outputpath + 'tmp/' + str(i) + 'labels', labels_indiv)\n",
    "                break\n",
    "            try:\n",
    "                plabels_indiv.append(int(s))\n",
    "            except ValueError:\n",
    "                print('do it again!')\n",
    "            print(\"neuron + \" +s+\"\")\n",
    "        np.savetxt(outputpath + 'labeled_samples_file/' + str(i) + 'samples.txt', samples_indiv)\n",
    "        np.savetxt(outputpath + 'labeled_samples_file/' + str(i) + 'labels.txt', labels_indiv)\n",
    "    return samples, labels\n",
    "\n",
    "def batch_test(inputpath = 'default path'):\n",
    "    if inputpath == 'default path':\n",
    "        inputpath = '/home/yingtao/Desktop/annote3D/' + \"janelia_gal4\"\n",
    "    labels = []\n",
    "    plabels_indiv = []\n",
    "    samples_indiv = []\n",
    "    sample_xysize = 15\n",
    "    xz_ratio = 4\n",
    "    sample_size = (sample_xysize//xz_ratio * 2 + 1)*(sample_xysize*2 + 1)**2\n",
    "    samples = []\n",
    "    janl_lsms = gettiffiles(inputpath)\n",
    "    stopflag = 0\n",
    "    for i, janl_lsm in enumerate(janl_lsms):\n",
    "        if stopflag == 1:\n",
    "            break\n",
    "        if i == 0:\n",
    "            print('next')\n",
    "            continue\n",
    "        image, origin_image = preprocessor.prepro(janl_lsm)\n",
    "        dog_list, dog_image = dog_maxima(image, 2, size =7)\n",
    "        dog_list = addvalue(dog_list, origin_image)\n",
    "        dog_list = _prune_blobs(dog_list, 10)\n",
    "        plabels_indiv = np.ones(dog_list.shape[0])\n",
    "        samples_indiv, labels_indiv = samplefromindex(dog_list, plabels_indiv, \n",
    "                                                                          origin_image, sample_xysize, sample_size, xz_ratio)\n",
    "        samples.append(samples_indiv)\n",
    "        np.savetxt(outputpath + 'test_files/' + str(i) + 'samples.txt', samples_indiv)\n",
    "        s = input(\"Do you want to stop?(y/n)\")\n",
    "        if s == 'y' or 'Y':\n",
    "            break\n",
    "    return samples"
   ]
  },
  {
   "cell_type": "code",
   "execution_count": 7,
   "metadata": {
    "collapsed": false
   },
   "outputs": [],
   "source": [
    "inputpath = '/media/yingtao/HDPC-UT/output/test/'\n",
    "janl_lsms = gettiffiles(inputpath)"
   ]
  },
  {
   "cell_type": "code",
   "execution_count": 16,
   "metadata": {
    "collapsed": false
   },
   "outputs": [],
   "source": [
    "tmp = io.imread(janl_lsms[-2])"
   ]
  },
  {
   "cell_type": "code",
   "execution_count": 17,
   "metadata": {
    "collapsed": false
   },
   "outputs": [
    {
     "data": {
      "text/plain": [
       "(99, 1449, 993, 3)"
      ]
     },
     "execution_count": 17,
     "metadata": {},
     "output_type": "execute_result"
    }
   ],
   "source": [
    "tmp.shape"
   ]
  },
  {
   "cell_type": "code",
   "execution_count": 5,
   "metadata": {
    "collapsed": false
   },
   "outputs": [
    {
     "name": "stderr",
     "output_type": "stream",
     "text": [
      "/usr/local/lib/python3.5/dist-packages/skimage/io/_io.py:132: UserWarning: /home/yingtao/Desktop/annote3D/tmp/1.tif is a low contrast image\n",
      "  warn('%s is a low contrast image' % fname)\n",
      "/usr/local/lib/python3.5/dist-packages/skimage/io/_io.py:132: UserWarning: /home/yingtao/Desktop/annote3D/tmp/1o.tif is a low contrast image\n",
      "  warn('%s is a low contrast image' % fname)\n",
      "/usr/local/lib/python3.5/dist-packages/skimage/io/_io.py:132: UserWarning: /home/yingtao/Desktop/annote3D/tmp/3.tif is a low contrast image\n",
      "  warn('%s is a low contrast image' % fname)\n",
      "/usr/local/lib/python3.5/dist-packages/skimage/io/_io.py:132: UserWarning: /home/yingtao/Desktop/annote3D/tmp/3o.tif is a low contrast image\n",
      "  warn('%s is a low contrast image' % fname)\n"
     ]
    }
   ],
   "source": [
    "s = 0\n",
    "for i,j in zip(aa,bb):\n",
    "    s = s+1\n",
    "    io.imsave('/home/yingtao/Desktop/annote3D/tmp/' + str(s) + '.tif', i.astype('uint8'))\n",
    "    io.imsave('/home/yingtao/Desktop/annote3D/tmp/' + str(s) + 'o.tif', j.astype('uint8'))"
   ]
  },
  {
   "cell_type": "code",
   "execution_count": 4,
   "metadata": {
    "collapsed": false
   },
   "outputs": [
    {
     "name": "stdout",
     "output_type": "stream",
     "text": [
      "Init 1/3 with method: k-means++\n",
      "Inertia for init 1/3: 155972.433078\n",
      "Init 2/3 with method: k-means++\n",
      "Inertia for init 2/3: 161164.755803\n",
      "Init 3/3 with method: k-means++\n",
      "Inertia for init 3/3: 149841.397822\n",
      "Minibatch iteration 1/2100: mean batch inertia: 0.042717, ewa inertia: 0.042717 \n",
      "Minibatch iteration 2/2100: mean batch inertia: 0.056098, ewa inertia: 0.044008 \n",
      "Minibatch iteration 3/2100: mean batch inertia: 0.037145, ewa inertia: 0.043346 \n",
      "Minibatch iteration 4/2100: mean batch inertia: 0.041771, ewa inertia: 0.043194 \n",
      "Minibatch iteration 5/2100: mean batch inertia: 0.040974, ewa inertia: 0.042979 \n",
      "Minibatch iteration 6/2100: mean batch inertia: 0.047254, ewa inertia: 0.043392 \n",
      "Minibatch iteration 7/2100: mean batch inertia: 0.042041, ewa inertia: 0.043262 \n",
      "Minibatch iteration 8/2100: mean batch inertia: 0.039475, ewa inertia: 0.042896 \n",
      "Minibatch iteration 9/2100: mean batch inertia: 0.031922, ewa inertia: 0.041837 \n",
      "Minibatch iteration 10/2100: mean batch inertia: 0.050111, ewa inertia: 0.042636 \n",
      "Minibatch iteration 11/2100: mean batch inertia: 0.037850, ewa inertia: 0.042174 \n",
      "Minibatch iteration 12/2100: mean batch inertia: 0.039643, ewa inertia: 0.041930 \n",
      "Minibatch iteration 13/2100: mean batch inertia: 0.042442, ewa inertia: 0.041979 \n",
      "Minibatch iteration 14/2100: mean batch inertia: 0.035935, ewa inertia: 0.041396 \n",
      "Minibatch iteration 15/2100: mean batch inertia: 0.043346, ewa inertia: 0.041584 \n",
      "Minibatch iteration 16/2100: mean batch inertia: 0.054155, ewa inertia: 0.042797 \n",
      "Minibatch iteration 17/2100: mean batch inertia: 0.037973, ewa inertia: 0.042332 \n",
      "Minibatch iteration 18/2100: mean batch inertia: 0.051547, ewa inertia: 0.043221 \n",
      "Minibatch iteration 19/2100: mean batch inertia: 0.043544, ewa inertia: 0.043252 \n",
      "Minibatch iteration 20/2100: mean batch inertia: 0.036519, ewa inertia: 0.042602 \n",
      "Minibatch iteration 21/2100: mean batch inertia: 0.047672, ewa inertia: 0.043091 \n",
      "Minibatch iteration 22/2100: mean batch inertia: 0.043517, ewa inertia: 0.043133 \n",
      "Minibatch iteration 23/2100: mean batch inertia: 0.046495, ewa inertia: 0.043457 \n",
      "Minibatch iteration 24/2100: mean batch inertia: 0.046130, ewa inertia: 0.043715 \n",
      "Converged (lack of improvement in inertia) at iteration 24/2100\n",
      "Computing label assignment and total inertia\n"
     ]
    },
    {
     "name": "stderr",
     "output_type": "stream",
     "text": [
      "/usr/local/lib/python3.5/dist-packages/skimage/io/_io.py:132: UserWarning: /home/yingtao/Desktop/annote3D/image.tif is a low contrast image\n",
      "  warn('%s is a low contrast image' % fname)\n"
     ]
    },
    {
     "name": "stdout",
     "output_type": "stream",
     "text": [
      "Init 1/3 with method: k-means++\n",
      "Inertia for init 1/3: 19214542.421841\n",
      "Init 2/3 with method: k-means++\n",
      "Inertia for init 2/3: 17861618.602350\n",
      "Init 3/3 with method: k-means++\n",
      "Inertia for init 3/3: 19772468.186063\n",
      "Minibatch iteration 1/2100: mean batch inertia: 5.965832, ewa inertia: 5.965832 \n",
      "Minibatch iteration 2/2100: mean batch inertia: 5.849369, ewa inertia: 5.954596 \n",
      "Minibatch iteration 3/2100: mean batch inertia: 5.801078, ewa inertia: 5.939786 \n",
      "Minibatch iteration 4/2100: mean batch inertia: 5.872108, ewa inertia: 5.933256 \n",
      "Minibatch iteration 5/2100: mean batch inertia: 5.840632, ewa inertia: 5.924320 \n",
      "Minibatch iteration 6/2100: mean batch inertia: 5.884644, ewa inertia: 5.920493 \n",
      "Minibatch iteration 7/2100: mean batch inertia: 5.703975, ewa inertia: 5.899604 \n",
      "Minibatch iteration 8/2100: mean batch inertia: 5.657211, ewa inertia: 5.876219 \n",
      "Minibatch iteration 9/2100: mean batch inertia: 5.758190, ewa inertia: 5.864832 \n",
      "Minibatch iteration 10/2100: mean batch inertia: 5.817110, ewa inertia: 5.860228 \n",
      "Minibatch iteration 11/2100: mean batch inertia: 5.707626, ewa inertia: 5.845505 \n",
      "Minibatch iteration 12/2100: mean batch inertia: 5.754897, ewa inertia: 5.836764 \n",
      "Minibatch iteration 13/2100: mean batch inertia: 5.705606, ewa inertia: 5.824110 \n",
      "Minibatch iteration 14/2100: mean batch inertia: 5.812982, ewa inertia: 5.823037 \n",
      "Minibatch iteration 15/2100: mean batch inertia: 5.736425, ewa inertia: 5.814681 \n",
      "Minibatch iteration 16/2100: mean batch inertia: 5.791400, ewa inertia: 5.812435 \n",
      "Minibatch iteration 17/2100: mean batch inertia: 5.712877, ewa inertia: 5.802830 \n",
      "Minibatch iteration 18/2100: mean batch inertia: 5.688596, ewa inertia: 5.791809 \n",
      "Minibatch iteration 19/2100: mean batch inertia: 5.969857, ewa inertia: 5.808986 \n",
      "Minibatch iteration 20/2100: mean batch inertia: 5.771018, ewa inertia: 5.805323 \n",
      "Minibatch iteration 21/2100: mean batch inertia: 5.639316, ewa inertia: 5.789308 \n",
      "Minibatch iteration 22/2100: mean batch inertia: 5.579322, ewa inertia: 5.769049 \n",
      "Minibatch iteration 23/2100: mean batch inertia: 5.685717, ewa inertia: 5.761010 \n",
      "Minibatch iteration 24/2100: mean batch inertia: 5.527138, ewa inertia: 5.738447 \n",
      "Minibatch iteration 25/2100: mean batch inertia: 5.736028, ewa inertia: 5.738213 \n",
      "Minibatch iteration 26/2100: mean batch inertia: 5.572382, ewa inertia: 5.722215 \n",
      "Minibatch iteration 27/2100: mean batch inertia: 5.670649, ewa inertia: 5.717240 \n",
      "Minibatch iteration 28/2100: mean batch inertia: 5.618769, ewa inertia: 5.707740 \n",
      "Minibatch iteration 29/2100: mean batch inertia: 5.873443, ewa inertia: 5.723726 \n",
      "Minibatch iteration 30/2100: mean batch inertia: 5.554911, ewa inertia: 5.707440 \n",
      "Minibatch iteration 31/2100: mean batch inertia: 5.706292, ewa inertia: 5.707329 \n",
      "Minibatch iteration 32/2100: mean batch inertia: 5.578623, ewa inertia: 5.694912 \n",
      "Minibatch iteration 33/2100: mean batch inertia: 5.826801, ewa inertia: 5.707636 \n",
      "Minibatch iteration 34/2100: mean batch inertia: 5.590003, ewa inertia: 5.696287 \n",
      "Minibatch iteration 35/2100: mean batch inertia: 5.664634, ewa inertia: 5.693233 \n",
      "Minibatch iteration 36/2100: mean batch inertia: 5.681481, ewa inertia: 5.692100 \n",
      "Minibatch iteration 37/2100: mean batch inertia: 5.774596, ewa inertia: 5.700059 \n",
      "Minibatch iteration 38/2100: mean batch inertia: 5.651930, ewa inertia: 5.695415 \n",
      "Minibatch iteration 39/2100: mean batch inertia: 5.722098, ewa inertia: 5.697990 \n",
      "Minibatch iteration 40/2100: mean batch inertia: 5.566317, ewa inertia: 5.685286 \n",
      "Minibatch iteration 41/2100: mean batch inertia: 5.711620, ewa inertia: 5.687827 \n",
      "Minibatch iteration 42/2100: mean batch inertia: 5.651919, ewa inertia: 5.684363 \n",
      "Minibatch iteration 43/2100: mean batch inertia: 5.608481, ewa inertia: 5.677042 \n",
      "Minibatch iteration 44/2100: mean batch inertia: 5.717924, ewa inertia: 5.680986 \n",
      "Minibatch iteration 45/2100: mean batch inertia: 5.688009, ewa inertia: 5.681664 \n",
      "Minibatch iteration 46/2100: mean batch inertia: 5.850182, ewa inertia: 5.697922 \n",
      "Minibatch iteration 47/2100: mean batch inertia: 5.672495, ewa inertia: 5.695469 \n",
      "Minibatch iteration 48/2100: mean batch inertia: 5.636390, ewa inertia: 5.689769 \n",
      "Minibatch iteration 49/2100: mean batch inertia: 5.737445, ewa inertia: 5.694368 \n",
      "Minibatch iteration 50/2100: mean batch inertia: 5.664908, ewa inertia: 5.691526 \n",
      "Minibatch iteration 51/2100: mean batch inertia: 5.593956, ewa inertia: 5.682113 \n",
      "Minibatch iteration 52/2100: mean batch inertia: 5.808784, ewa inertia: 5.694334 \n",
      "Minibatch iteration 53/2100: mean batch inertia: 5.650488, ewa inertia: 5.690104 \n",
      "Converged (lack of improvement in inertia) at iteration 53/2100\n",
      "Computing label assignment and total inertia\n",
      "Init 1/3 with method: k-means++\n",
      "Inertia for init 1/3: 271520.206683\n",
      "Init 2/3 with method: k-means++\n",
      "Inertia for init 2/3: 279380.166219\n",
      "Init 3/3 with method: k-means++\n",
      "Inertia for init 3/3: 258911.156315\n",
      "Minibatch iteration 1/2100: mean batch inertia: 0.063080, ewa inertia: 0.063080 \n",
      "Minibatch iteration 2/2100: mean batch inertia: 0.092092, ewa inertia: 0.065879 \n",
      "Minibatch iteration 3/2100: mean batch inertia: 0.080028, ewa inertia: 0.067244 \n",
      "Minibatch iteration 4/2100: mean batch inertia: 0.084402, ewa inertia: 0.068900 \n",
      "Minibatch iteration 5/2100: mean batch inertia: 0.094997, ewa inertia: 0.071417 \n",
      "Minibatch iteration 6/2100: mean batch inertia: 0.071120, ewa inertia: 0.071389 \n",
      "Minibatch iteration 7/2100: mean batch inertia: 0.092622, ewa inertia: 0.073437 \n",
      "Minibatch iteration 8/2100: mean batch inertia: 0.072952, ewa inertia: 0.073390 \n",
      "Minibatch iteration 9/2100: mean batch inertia: 0.078242, ewa inertia: 0.073858 \n",
      "Minibatch iteration 10/2100: mean batch inertia: 0.103942, ewa inertia: 0.076761 \n",
      "Minibatch iteration 11/2100: mean batch inertia: 0.097833, ewa inertia: 0.078794 \n",
      "Converged (lack of improvement in inertia) at iteration 11/2100\n",
      "Computing label assignment and total inertia\n",
      "Init 1/3 with method: k-means++\n",
      "Inertia for init 1/3: 5274698.900441\n",
      "Init 2/3 with method: k-means++\n",
      "Inertia for init 2/3: 4343051.556268\n",
      "Init 3/3 with method: k-means++\n",
      "Inertia for init 3/3: 4192323.523942\n",
      "Minibatch iteration 1/2100: mean batch inertia: 1.279820, ewa inertia: 1.279820 \n",
      "Minibatch iteration 2/2100: mean batch inertia: 1.321932, ewa inertia: 1.283883 \n",
      "Minibatch iteration 3/2100: mean batch inertia: 1.364962, ewa inertia: 1.291705 \n",
      "Minibatch iteration 4/2100: mean batch inertia: 1.431528, ewa inertia: 1.305195 \n",
      "Minibatch iteration 5/2100: mean batch inertia: 1.413774, ewa inertia: 1.315670 \n",
      "Minibatch iteration 6/2100: mean batch inertia: 1.414270, ewa inertia: 1.325183 \n",
      "Minibatch iteration 7/2100: mean batch inertia: 1.202070, ewa inertia: 1.313305 \n",
      "Minibatch iteration 8/2100: mean batch inertia: 1.363863, ewa inertia: 1.318183 \n",
      "Minibatch iteration 9/2100: mean batch inertia: 1.296290, ewa inertia: 1.316071 \n",
      "Minibatch iteration 10/2100: mean batch inertia: 1.283898, ewa inertia: 1.312967 \n",
      "Minibatch iteration 11/2100: mean batch inertia: 1.377859, ewa inertia: 1.319227 \n",
      "Converged (lack of improvement in inertia) at iteration 11/2100\n",
      "Computing label assignment and total inertia\n",
      "Init 1/3 with method: k-means++\n",
      "Inertia for init 1/3: 29576491.699274\n",
      "Init 2/3 with method: k-means++\n",
      "Inertia for init 2/3: 29523710.754701\n",
      "Init 3/3 with method: k-means++\n",
      "Inertia for init 3/3: 29695240.404733\n",
      "Minibatch iteration 1/2100: mean batch inertia: 10.012294, ewa inertia: 10.012294 \n",
      "Minibatch iteration 2/2100: mean batch inertia: 9.784470, ewa inertia: 9.990314 \n",
      "Minibatch iteration 3/2100: mean batch inertia: 9.992988, ewa inertia: 9.990572 \n",
      "Minibatch iteration 4/2100: mean batch inertia: 10.039325, ewa inertia: 9.995276 \n",
      "Minibatch iteration 5/2100: mean batch inertia: 9.690355, ewa inertia: 9.965858 \n",
      "Minibatch iteration 6/2100: mean batch inertia: 9.850222, ewa inertia: 9.954702 \n",
      "Minibatch iteration 7/2100: mean batch inertia: 9.853356, ewa inertia: 9.944925 \n",
      "Minibatch iteration 8/2100: mean batch inertia: 9.901771, ewa inertia: 9.940761 \n",
      "Minibatch iteration 9/2100: mean batch inertia: 9.789122, ewa inertia: 9.926132 \n",
      "Minibatch iteration 10/2100: mean batch inertia: 9.825455, ewa inertia: 9.916419 \n",
      "Minibatch iteration 11/2100: mean batch inertia: 9.724303, ewa inertia: 9.897884 \n",
      "Minibatch iteration 12/2100: mean batch inertia: 9.916461, ewa inertia: 9.899677 \n",
      "Minibatch iteration 13/2100: mean batch inertia: 9.802367, ewa inertia: 9.890289 \n",
      "Minibatch iteration 14/2100: mean batch inertia: 9.880553, ewa inertia: 9.889349 \n",
      "Minibatch iteration 15/2100: mean batch inertia: 9.609687, ewa inertia: 9.862369 \n",
      "Minibatch iteration 16/2100: mean batch inertia: 9.690494, ewa inertia: 9.845787 \n",
      "Minibatch iteration 17/2100: mean batch inertia: 9.734639, ewa inertia: 9.835064 \n",
      "Minibatch iteration 18/2100: mean batch inertia: 9.799039, ewa inertia: 9.831588 \n",
      "Minibatch iteration 19/2100: mean batch inertia: 9.860141, ewa inertia: 9.834343 \n",
      "Minibatch iteration 20/2100: mean batch inertia: 9.636294, ewa inertia: 9.815236 \n",
      "Minibatch iteration 21/2100: mean batch inertia: 9.845121, ewa inertia: 9.818119 \n",
      "Minibatch iteration 22/2100: mean batch inertia: 9.721092, ewa inertia: 9.808758 \n",
      "Minibatch iteration 23/2100: mean batch inertia: 9.614239, ewa inertia: 9.789992 \n",
      "Minibatch iteration 24/2100: mean batch inertia: 9.945504, ewa inertia: 9.804995 \n",
      "Minibatch iteration 25/2100: mean batch inertia: 9.807685, ewa inertia: 9.805255 \n",
      "Minibatch iteration 26/2100: mean batch inertia: 9.786320, ewa inertia: 9.803428 \n",
      "Minibatch iteration 27/2100: mean batch inertia: 9.788895, ewa inertia: 9.802026 \n",
      "Minibatch iteration 28/2100: mean batch inertia: 9.677959, ewa inertia: 9.790056 \n",
      "Minibatch iteration 29/2100: mean batch inertia: 9.743184, ewa inertia: 9.785534 \n",
      "Minibatch iteration 30/2100: mean batch inertia: 9.778895, ewa inertia: 9.784894 \n",
      "Minibatch iteration 31/2100: mean batch inertia: 9.839077, ewa inertia: 9.790121 \n",
      "Minibatch iteration 32/2100: mean batch inertia: 9.824907, ewa inertia: 9.793477 \n",
      "Minibatch iteration 33/2100: mean batch inertia: 9.629855, ewa inertia: 9.777692 \n",
      "Minibatch iteration 34/2100: mean batch inertia: 9.742222, ewa inertia: 9.774270 \n",
      "Minibatch iteration 35/2100: mean batch inertia: 9.736610, ewa inertia: 9.770636 \n",
      "Minibatch iteration 36/2100: mean batch inertia: 9.786304, ewa inertia: 9.772148 \n",
      "Minibatch iteration 37/2100: mean batch inertia: 9.899748, ewa inertia: 9.784458 \n",
      "Minibatch iteration 38/2100: mean batch inertia: 9.722668, ewa inertia: 9.778497 \n",
      "Minibatch iteration 39/2100: mean batch inertia: 9.657086, ewa inertia: 9.766784 \n",
      "Minibatch iteration 40/2100: mean batch inertia: 9.778253, ewa inertia: 9.767890 \n",
      "Minibatch iteration 41/2100: mean batch inertia: 9.625989, ewa inertia: 9.754200 \n",
      "Minibatch iteration 42/2100: mean batch inertia: 9.571790, ewa inertia: 9.736602 \n",
      "Minibatch iteration 43/2100: mean batch inertia: 9.887461, ewa inertia: 9.751156 \n",
      "Minibatch iteration 44/2100: mean batch inertia: 9.871070, ewa inertia: 9.762725 \n",
      "Minibatch iteration 45/2100: mean batch inertia: 9.713455, ewa inertia: 9.757972 \n",
      "Minibatch iteration 46/2100: mean batch inertia: 9.734830, ewa inertia: 9.755739 \n",
      "Minibatch iteration 47/2100: mean batch inertia: 9.922176, ewa inertia: 9.771796 \n",
      "Minibatch iteration 48/2100: mean batch inertia: 9.808446, ewa inertia: 9.775332 \n",
      "Minibatch iteration 49/2100: mean batch inertia: 9.771625, ewa inertia: 9.774974 \n",
      "Minibatch iteration 50/2100: mean batch inertia: 9.590842, ewa inertia: 9.757210 \n",
      "Minibatch iteration 51/2100: mean batch inertia: 9.649936, ewa inertia: 9.746861 \n",
      "Minibatch iteration 52/2100: mean batch inertia: 9.728256, ewa inertia: 9.745066 \n",
      "Converged (lack of improvement in inertia) at iteration 52/2100\n",
      "Computing label assignment and total inertia\n",
      "Init 1/3 with method: k-means++\n",
      "Inertia for init 1/3: 24661830.791100\n",
      "Init 2/3 with method: k-means++\n",
      "Inertia for init 2/3: 26011859.399483\n",
      "Init 3/3 with method: k-means++\n",
      "Inertia for init 3/3: 25388431.016156\n",
      "Minibatch iteration 1/2100: mean batch inertia: 8.377965, ewa inertia: 8.377965 \n",
      "Minibatch iteration 2/2100: mean batch inertia: 8.009559, ewa inertia: 8.342423 \n",
      "Minibatch iteration 3/2100: mean batch inertia: 8.228266, ewa inertia: 8.331409 \n",
      "Minibatch iteration 4/2100: mean batch inertia: 8.112995, ewa inertia: 8.310338 \n",
      "Minibatch iteration 5/2100: mean batch inertia: 8.147238, ewa inertia: 8.294603 \n",
      "Minibatch iteration 6/2100: mean batch inertia: 8.051227, ewa inertia: 8.271123 \n",
      "Minibatch iteration 7/2100: mean batch inertia: 8.226296, ewa inertia: 8.266798 \n",
      "Minibatch iteration 8/2100: mean batch inertia: 8.060965, ewa inertia: 8.246940 \n",
      "Minibatch iteration 9/2100: mean batch inertia: 8.093152, ewa inertia: 8.232103 \n",
      "Minibatch iteration 10/2100: mean batch inertia: 8.164417, ewa inertia: 8.225573 \n",
      "Minibatch iteration 11/2100: mean batch inertia: 8.167642, ewa inertia: 8.219984 \n",
      "Minibatch iteration 12/2100: mean batch inertia: 7.933247, ewa inertia: 8.192321 \n",
      "Minibatch iteration 13/2100: mean batch inertia: 8.100395, ewa inertia: 8.183452 \n",
      "Minibatch iteration 14/2100: mean batch inertia: 8.016422, ewa inertia: 8.167338 \n",
      "Minibatch iteration 15/2100: mean batch inertia: 8.360472, ewa inertia: 8.185971 \n",
      "Minibatch iteration 16/2100: mean batch inertia: 8.331293, ewa inertia: 8.199991 \n",
      "Minibatch iteration 17/2100: mean batch inertia: 8.108044, ewa inertia: 8.191120 \n",
      "Minibatch iteration 18/2100: mean batch inertia: 8.253906, ewa inertia: 8.197177 \n",
      "Minibatch iteration 19/2100: mean batch inertia: 8.226696, ewa inertia: 8.200025 \n",
      "Minibatch iteration 20/2100: mean batch inertia: 8.226805, ewa inertia: 8.202609 \n",
      "Minibatch iteration 21/2100: mean batch inertia: 7.983447, ewa inertia: 8.181465 \n",
      "Minibatch iteration 22/2100: mean batch inertia: 8.110053, ewa inertia: 8.174576 \n",
      "Minibatch iteration 23/2100: mean batch inertia: 8.214776, ewa inertia: 8.178454 \n",
      "Minibatch iteration 24/2100: mean batch inertia: 8.250235, ewa inertia: 8.185379 \n",
      "Converged (lack of improvement in inertia) at iteration 24/2100\n",
      "Computing label assignment and total inertia\n"
     ]
    }
   ],
   "source": [
    "inputpath = '/media/yingtao/HDPC-UT/output/test/'\n",
    "janl_lsms = gettiffiles(inputpath)\n",
    "aa = []\n",
    "bb = []\n",
    "for i, janl_lsm in enumerate(janl_lsms):\n",
    "    a ,b =preprocessor.prepro(janl_lsm, 'F')\n",
    "    aa.append(a)\n",
    "    bb.append(b)\n",
    "    if i == 5:\n",
    "        break"
   ]
  },
  {
   "cell_type": "code",
   "execution_count": null,
   "metadata": {
    "collapsed": false
   },
   "outputs": [],
   "source": [
    "samples,labels = batch_label(inputpath = '/media/yingtao/HDPC-UT/output/test/')"
   ]
  },
  {
   "cell_type": "code",
   "execution_count": null,
   "metadata": {
    "collapsed": false
   },
   "outputs": [],
   "source": [
    "for k in range(5):\n",
    "    if k == 1:\n",
    "        break\n",
    "    print('test')"
   ]
  },
  {
   "cell_type": "code",
   "execution_count": null,
   "metadata": {
    "collapsed": false
   },
   "outputs": [],
   "source": [
    "nextimage = 0\n",
    "plabels_indiv = []\n",
    "for temp in range(54):\n",
    "    if nextimage == 1:\n",
    "        nextimage = 0\n",
    "        break\n",
    "    s = input(\"What's the index of circled neuron?\")\n",
    "    if s == 'e':\n",
    "        for temp2 in range(54):\n",
    "            s = input(\"What's the index of unknown case?\")\n",
    "            if s == 'e':\n",
    "                print('next image')\n",
    "                nextimage = 1\n",
    "                break\n",
    "            if s == 'd':\n",
    "                print('deleteone')\n",
    "            if s == 'stop':\n",
    "                print('stop')\n",
    "\n",
    "                nextimage = 1\n",
    "                break\n",
    "            try:\n",
    "                plabels_indiv.append(int(s))\n",
    "            except ValueError:\n",
    "                print('do it again!')\n",
    "            print(\"unknown + \" +s+\"\")\n",
    "    if s == 'd':\n",
    "        print('deleteone')\n",
    "    if s == 'n':\n",
    "        print('neglect it')\n",
    "        break\n",
    "    try:\n",
    "        plabels_indiv.append(int(s))\n",
    "    except ValueError:\n",
    "        print('do it againnnn!')\n",
    "    print(\"neuron + \" +s+\"\")"
   ]
  },
  {
   "cell_type": "code",
   "execution_count": null,
   "metadata": {
    "collapsed": false
   },
   "outputs": [],
   "source": [
    "labels"
   ]
  },
  {
   "cell_type": "code",
   "execution_count": null,
   "metadata": {
    "collapsed": false
   },
   "outputs": [],
   "source": [
    "imshow(samples[1])"
   ]
  },
  {
   "cell_type": "code",
   "execution_count": null,
   "metadata": {
    "collapsed": false
   },
   "outputs": [],
   "source": [
    "pylab"
   ]
  },
  {
   "cell_type": "code",
   "execution_count": null,
   "metadata": {
    "collapsed": false
   },
   "outputs": [],
   "source": [
    "imshow(samples[8].reshape(7,31,31)[3,:,:])"
   ]
  },
  {
   "cell_type": "code",
   "execution_count": null,
   "metadata": {
    "collapsed": true
   },
   "outputs": [],
   "source": []
  }
 ],
 "metadata": {
  "kernelspec": {
   "display_name": "Python 3",
   "language": "python",
   "name": "python3"
  },
  "language_info": {
   "codemirror_mode": {
    "name": "ipython",
    "version": 3
   },
   "file_extension": ".py",
   "mimetype": "text/x-python",
   "name": "python",
   "nbconvert_exporter": "python",
   "pygments_lexer": "ipython3",
   "version": "3.5.2"
  }
 },
 "nbformat": 4,
 "nbformat_minor": 2
}
