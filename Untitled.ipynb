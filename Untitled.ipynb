{
 "cells": [
  {
   "cell_type": "code",
   "execution_count": 1,
   "metadata": {
    "collapsed": true
   },
   "outputs": [],
   "source": [
    "import preprocessor"
   ]
  },
  {
   "cell_type": "code",
   "execution_count": 2,
   "metadata": {
    "collapsed": false
   },
   "outputs": [
    {
     "name": "stdout",
     "output_type": "stream",
     "text": [
      "Init 1/3 with method: k-means++\n",
      "Inertia for init 1/3: 130209.508286\n",
      "Init 2/3 with method: k-means++\n",
      "Inertia for init 2/3: 120042.643300\n",
      "Init 3/3 with method: k-means++\n",
      "Inertia for init 3/3: 111440.710537\n",
      "Minibatch iteration 1/1400: mean batch inertia: 0.038111, ewa inertia: 0.038111 \n",
      "Minibatch iteration 2/1400: mean batch inertia: 0.039568, ewa inertia: 0.038322 \n",
      "Minibatch iteration 3/1400: mean batch inertia: 0.038397, ewa inertia: 0.038333 \n",
      "Minibatch iteration 4/1400: mean batch inertia: 0.038014, ewa inertia: 0.038287 \n",
      "Minibatch iteration 5/1400: mean batch inertia: 0.032623, ewa inertia: 0.037467 \n",
      "Minibatch iteration 6/1400: mean batch inertia: 0.034892, ewa inertia: 0.037094 \n",
      "Minibatch iteration 7/1400: mean batch inertia: 0.030785, ewa inertia: 0.036181 \n",
      "Minibatch iteration 8/1400: mean batch inertia: 0.034550, ewa inertia: 0.035945 \n",
      "Minibatch iteration 9/1400: mean batch inertia: 0.037042, ewa inertia: 0.036104 \n",
      "Minibatch iteration 10/1400: mean batch inertia: 0.039447, ewa inertia: 0.036588 \n",
      "Minibatch iteration 11/1400: mean batch inertia: 0.036733, ewa inertia: 0.036609 \n",
      "Minibatch iteration 12/1400: mean batch inertia: 0.037056, ewa inertia: 0.036674 \n",
      "Minibatch iteration 13/1400: mean batch inertia: 0.041006, ewa inertia: 0.037301 \n",
      "Minibatch iteration 14/1400: mean batch inertia: 0.038140, ewa inertia: 0.037422 \n",
      "Minibatch iteration 15/1400: mean batch inertia: 0.038544, ewa inertia: 0.037584 \n",
      "Minibatch iteration 16/1400: mean batch inertia: 0.048101, ewa inertia: 0.039106 \n",
      "Minibatch iteration 17/1400: mean batch inertia: 0.035084, ewa inertia: 0.038524 \n",
      "Minibatch iteration 18/1400: mean batch inertia: 0.038921, ewa inertia: 0.038582 \n",
      "Converged (lack of improvement in inertia) at iteration 18/1400\n",
      "Computing label assignment and total inertia\n"
     ]
    },
    {
     "name": "stderr",
     "output_type": "stream",
     "text": [
      "/usr/local/lib/python3.5/dist-packages/skimage/io/_io.py:132: UserWarning: /home/yingtao/Desktop/annote3D/image.tif is a low contrast image\n",
      "  warn('%s is a low contrast image' % fname)\n"
     ]
    }
   ],
   "source": [
    "image, origin_image = preprocessor.prepro('/media/yingtao/HDPC-UT/output/test/GL_32A04_AE_01_050209A.tif')"
   ]
  },
  {
   "cell_type": "code",
   "execution_count": null,
   "metadata": {
    "collapsed": false
   },
   "outputs": [],
   "source": [
    "cd /media/yingtao/HDPC-UT/output/test"
   ]
  },
  {
   "cell_type": "code",
   "execution_count": 3,
   "metadata": {
    "collapsed": false
   },
   "outputs": [
    {
     "ename": "ImportError",
     "evalue": "No module named 'torch'",
     "output_type": "error",
     "traceback": [
      "\u001b[0;31m---------------------------------------------------------------------------\u001b[0m",
      "\u001b[0;31mImportError\u001b[0m                               Traceback (most recent call last)",
      "\u001b[0;32m<ipython-input-3-c031d3dd82fc>\u001b[0m in \u001b[0;36m<module>\u001b[0;34m()\u001b[0m\n\u001b[0;32m----> 1\u001b[0;31m \u001b[0;32mimport\u001b[0m \u001b[0mtorch\u001b[0m\u001b[0;34m\u001b[0m\u001b[0m\n\u001b[0m",
      "\u001b[0;31mImportError\u001b[0m: No module named 'torch'"
     ]
    }
   ],
   "source": []
  },
  {
   "cell_type": "code",
   "execution_count": null,
   "metadata": {
    "collapsed": true
   },
   "outputs": [],
   "source": []
  }
 ],
 "metadata": {
  "kernelspec": {
   "display_name": "Python 3",
   "language": "python",
   "name": "python3"
  },
  "language_info": {
   "codemirror_mode": {
    "name": "ipython",
    "version": 3
   },
   "file_extension": ".py",
   "mimetype": "text/x-python",
   "name": "python",
   "nbconvert_exporter": "python",
   "pygments_lexer": "ipython3",
   "version": "3.5.2"
  }
 },
 "nbformat": 4,
 "nbformat_minor": 1
}
